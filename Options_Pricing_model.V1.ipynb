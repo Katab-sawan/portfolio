{
  "nbformat": 4,
  "nbformat_minor": 0,
  "metadata": {
    "colab": {
      "private_outputs": true,
      "provenance": [],
      "authorship_tag": "ABX9TyOXgy1q+NHpWWPJzwyAhePK",
      "include_colab_link": true
    },
    "kernelspec": {
      "name": "python3",
      "display_name": "Python 3"
    },
    "language_info": {
      "name": "python"
    }
  },
  "cells": [
    {
      "cell_type": "markdown",
      "metadata": {
        "id": "view-in-github",
        "colab_type": "text"
      },
      "source": [
        "<a href=\"https://colab.research.google.com/github/Katab-sawan/portfolio/blob/main/Options_Pricing_model.V1.ipynb\" target=\"_parent\"><img src=\"https://colab.research.google.com/assets/colab-badge.svg\" alt=\"Open In Colab\"/></a>"
      ]
    },
    {
      "cell_type": "markdown",
      "source": [
        "***Black scholes Options Pricing Model for European options***\n",
        "\n",
        "In finance the black scholes model is one of the most used methods to price options to which it calculates the theortical values of on option based on five key variables:\n",
        "\n",
        "\n",
        "\n",
        "*   Underlying Price(S)\n",
        "*   Strike Price(K)\n",
        "*   Time to Expiration(T)\n",
        "*   Risk Free Rate(r)***italicised text***\n",
        "*   Volatility(sigma)\n",
        "\n",
        "\n",
        "\n",
        "\n",
        "\n"
      ],
      "metadata": {
        "id": "R5kzztMV4mIy"
      }
    },
    {
      "cell_type": "markdown",
      "source": [],
      "metadata": {
        "id": "r_u_611l4j39"
      }
    },
    {
      "cell_type": "code",
      "source": [
        "from enum  import Enum\n",
        "from abc import ABC, abstractmethod\n",
        "\n",
        "class OPTION_TYPE(Enum):\n",
        "    CALL_OPTION = 'Call Option'\n",
        "    PUT_OPTION = 'Put Option'\n",
        "\n",
        "class OptionPricingModel(ABC):\n",
        "    #Abstract class defining interface for option pricing models.\n",
        "\n",
        "    def calculate_option_price(self, option_type):\n",
        "        #Calculates call/put option price according to the specified parameter.\n",
        "        if option_type == OPTION_TYPE.CALL_OPTION.value:\n",
        "            return self._calculate_call_option_price()\n",
        "        elif option_type == OPTION_TYPE.PUT_OPTION.value:\n",
        "            return self._calculate_put_option_price()\n",
        "        else:\n",
        "            return -1\n",
        "\n",
        "    @classmethod\n",
        "    @abstractmethod\n",
        "    def _calculate_call_option_price(cls):\n",
        "        \"\"\"Calculates option price for call option.\"\"\"\n",
        "        pass\n",
        "\n",
        "    @classmethod\n",
        "    @abstractmethod\n",
        "    def _calculate_put_option_price(cls):\n",
        "        \"\"\"Calculates option price for put option.\"\"\"\n",
        "        pass"
      ],
      "metadata": {
        "id": "V34Hlnh1_IWN"
      },
      "execution_count": null,
      "outputs": []
    },
    {
      "cell_type": "code",
      "source": [
        "from scipy.stats import norm\n",
        "import math\n",
        "\n",
        "class BlackScholesModel(OptionPricingModel):\n",
        "    def __init__(self, S, K, T, r, sigma):\n",
        "        self.S = S\n",
        "        self.K = K\n",
        "        self.T = T\n",
        "        self.r = r\n",
        "        self.sigma = sigma\n",
        "\n",
        "    def _calculate_call_option_price(self):\n",
        "        d1 = (math.log(self.S / self.K) + (self.r + 0.5 * self.sigma ** 2) * self.T) / (self.sigma * math.sqrt(self.T))\n",
        "        d2 = d1 - self.sigma * math.sqrt(self.T)\n",
        "        return self.S * norm.cdf(d1) - self.K * math.exp(-self.r * self.T) * norm.cdf(d2)\n",
        "\n",
        "    def _calculate_put_option_price(self):\n",
        "        d1 = (math.log(self.S / self.K) + (self.r + 0.5 * self.sigma ** 2) * self.T) / (self.sigma * math.sqrt(self.T))\n",
        "        d2 = d1 - self.sigma * math.sqrt(self.T)\n",
        "        return self.K * math.exp(-self.r * self.T) * norm.cdf(-d2) - self.S * norm.cdf(-d1)\n",
        ""
      ],
      "metadata": {
        "id": "6WNNT5mC-7Z1"
      },
      "execution_count": null,
      "outputs": []
    },
    {
      "cell_type": "code",
      "source": [
        "model = BlackScholesModel(S=42, K=40, T=0.5, r=0.1, sigma=0.2)\n",
        "call = model.calculate_option_price(OPTION_TYPE.CALL_OPTION.value)\n",
        "put = model.calculate_option_price(OPTION_TYPE.PUT_OPTION.value)\n",
        "\n",
        "print(f\"Call Price: {call:.4f}\")\n",
        "print(f\"Put Price:  {put:.4f}\")\n"
      ],
      "metadata": {
        "id": "S_wDlFNd_2f6"
      },
      "execution_count": null,
      "outputs": []
    },
    {
      "cell_type": "markdown",
      "source": [
        "***Binomial Option Pricing Model For american options***"
      ],
      "metadata": {
        "id": "T2EPM2O9Be29"
      }
    },
    {
      "cell_type": "code",
      "source": [
        "import numpy as np\n",
        "import matplotlib.pyplot as plt\n",
        "from scipy.sparse import csc_matrix\n",
        "from scipy.stats import bernoulli"
      ],
      "metadata": {
        "id": "A7v6CrtPD1WG"
      },
      "execution_count": null,
      "outputs": []
    },
    {
      "cell_type": "code",
      "source": [
        "S0 = 100\n",
        "t = 1\n",
        "u = 1.05\n",
        "d = 1/u\n",
        "p = 0.6\n",
        "\n",
        "S_u = u * S0\n",
        "S_d = d * S0\n",
        "K = 102.5\n",
        "r = 0.01\n",
        "\n",
        "C_u = S_d - K\n",
        "C_d = 0\n",
        "\n",
        "print(S_u, S_d)\n",
        "\n",
        "C = np.exp(-r * t) * (p*C_u + (1-p)*C_d)\n",
        "print(C)"
      ],
      "metadata": {
        "id": "P-dOvMbikPuO"
      },
      "execution_count": null,
      "outputs": []
    },
    {
      "cell_type": "code",
      "source": [
        "N = 5\n",
        "\n",
        "t = 1\n",
        "t = t / (N-1)\n",
        "\n",
        "S0 = 100\n",
        "r = 0.01\n",
        "\n",
        "sigma = 0.04\n",
        "u = np.exp(sigma * np.sqrt(t))\n",
        "u = 1/d\n",
        "p = (np.exp(r*t) - d) / (u - d)\n",
        "\n",
        "stock_prices = csc_matrix((N,N))\n",
        "call_prices = csc_matrix((N,N))\n",
        "\n",
        "stock_prices[0,0] = S0\n",
        "\n",
        "for i in range(1,N):\n",
        "  M = i + 1\n",
        "  stock_prices[i,0] = d * stock_prices[i-1,0]\n",
        "  for j in range(1,M):\n",
        "    stock_prices[i,j] = u * stock_prices[i-1,j-1]\n",
        "\n",
        "expiration = stock_prices[:,-1].toarray() - K\n",
        "expiration_shape = (expiration.size, )\n",
        "expiration = np.where(expiration >= 0, expiration, 0)\n",
        "\n",
        "call_prices[-1,:] = expiration\n",
        "\n",
        "for i in range(N - 2, -1, -1):\n",
        "  for j in range(i+1):\n",
        "    call_prices[i,j] = np.exp(-r * t) * ((1-p) * call_prices[i+1,j] + p * call_prices[i+1,j+1])\n",
        "\n",
        "\n",
        "plt.spy(call_prices)\n",
        "print(call_prices[0,0])"
      ],
      "metadata": {
        "id": "2HXsnnZbnCG8"
      },
      "execution_count": null,
      "outputs": []
    }
  ]
}