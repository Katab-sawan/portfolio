{
  "nbformat": 4,
  "nbformat_minor": 0,
  "metadata": {
    "colab": {
      "private_outputs": true,
      "provenance": []
    },
    "kernelspec": {
      "name": "python3",
      "display_name": "Python 3"
    },
    "language_info": {
      "name": "python"
    }
  },
  "cells": [
    {
      "cell_type": "code",
      "execution_count": null,
      "metadata": {
        "id": "k49V5TbYzZn8"
      },
      "outputs": [],
      "source": [
        "\n",
        "\n",
        "import pandas as pd\n",
        "import numpy as np\n",
        "import matplotlib.pyplot as plt\n",
        "import seaborn as sns\n",
        "from sklearn.model_selection import train_test_split, GridSearchCV\n",
        "from sklearn.neighbors import KNeighborsClassifier\n",
        "from sklearn.metrics import mean_squared_error, r2_score\n",
        "from sklearn.metrics import accuracy_score, confusion_matrix, ConfusionMatrixDisplay\n",
        "from sklearn.preprocessing import MinMaxScaler\n",
        "\n"
      ]
    },
    {
      "cell_type": "code",
      "source": [
        "df = pd.read_csv('/content/heart_cleveland_upload.csv')"
      ],
      "metadata": {
        "id": "jHibuQkz1eAT"
      },
      "execution_count": null,
      "outputs": []
    },
    {
      "cell_type": "code",
      "source": [
        "df.head()\n",
        "\n"
      ],
      "metadata": {
        "id": "l_qH8g5k6h2G"
      },
      "execution_count": null,
      "outputs": []
    },
    {
      "cell_type": "code",
      "source": [
        "df.info()"
      ],
      "metadata": {
        "id": "jaVwHGfZ6oaG"
      },
      "execution_count": null,
      "outputs": []
    },
    {
      "cell_type": "code",
      "source": [
        "df.describe()"
      ],
      "metadata": {
        "id": "io9DhT3I6z9Z"
      },
      "execution_count": null,
      "outputs": []
    },
    {
      "cell_type": "code",
      "source": [
        "cat_col = [\"age\",\"sex\",\t\"cp\",\t\"trestbps\" ,\t\"chol\",\t\"fbs\",\t\"restecg\",\t\"thalach\",\t\"exang\",\"oldpeak\",\"slope\",\"ca\",\"thal\",\"condition\"]\n",
        "\n",
        "fig = plt.figure(figsize=(16,15))\n",
        "\n",
        "for idx, col in enumerate(cat_col):\n",
        "    ax = plt.subplot(4,4,idx+1)\n",
        "    sns.countplot(x = df[col], ax = ax)\n",
        "    for container in ax.containers:\n",
        "        ax.bar_label(container, label_type = \"center\")\n"
      ],
      "metadata": {
        "id": "znqL2uKq7O5C"
      },
      "execution_count": null,
      "outputs": []
    },
    {
      "cell_type": "code",
      "source": [
        "fig = plt.figure(figsize=(16, 15))\n",
        "\n",
        "for idx, col in enumerate(cat_col):\n",
        "    ax = plt.subplot(4, 4, idx+1)\n",
        "    sns.countplot(x=df[col], hue=df[\"condition\"], ax=ax)\n",
        "    for container in ax.containers:\n",
        "        ax.bar_label(container, label_type=\"center\")\n",
        "plt.tight_layout()"
      ],
      "metadata": {
        "id": "tmbzkosm-m8r"
      },
      "execution_count": null,
      "outputs": []
    },
    {
      "cell_type": "code",
      "source": [
        "df['condition'].value_counts()"
      ],
      "metadata": {
        "id": "05UqxTOV-YxY"
      },
      "execution_count": null,
      "outputs": []
    },
    {
      "cell_type": "code",
      "source": [
        "df[df['trestbps'] == 0].info()"
      ],
      "metadata": {
        "id": "Hey_qOqXAoyZ"
      },
      "execution_count": null,
      "outputs": []
    },
    {
      "cell_type": "code",
      "source": [
        "df[df['chol'] == 0].info()"
      ],
      "metadata": {
        "id": "QW0gh2CFBOKr"
      },
      "execution_count": null,
      "outputs": []
    },
    {
      "cell_type": "code",
      "source": [
        "# Cleaning the Data\n",
        "df_clean = df.copy()\n",
        "\n",
        "df_clean = df_clean[df_clean['trestbps'] != 0]\n",
        "\n",
        "heartdisease_mask = df_clean['condition'] == 0\n",
        "\n",
        "chol_without_heartdisease = df_clean.loc[heartdisease_mask][\"chol\"]\n",
        "chol_with_heartdisease = df_clean.loc[heartdisease_mask][\"chol\"]\n",
        "\n",
        "df_clean.loc[heartdisease_mask, \"chol\"] = chol_without_heartdisease.replace(0, chol_without_heartdisease.median())\n",
        "df_clean.loc[~heartdisease_mask, \"chol\"] = chol_with_heartdisease.replace(0, chol_with_heartdisease.median())\n"
      ],
      "metadata": {
        "id": "1_j37E7yBUVf"
      },
      "execution_count": null,
      "outputs": []
    },
    {
      "cell_type": "code",
      "source": [
        "df_clean[['chol','condition']].describe()"
      ],
      "metadata": {
        "id": "pGi8hRNsCR0H"
      },
      "execution_count": null,
      "outputs": []
    },
    {
      "cell_type": "code",
      "source": [
        "df_clean = pd.get_dummies(df_clean, columns= [\"age\",\"sex\",\t\"cp\",\t\"trestbps\" ,\t\"chol\",\t\"fbs\",\t\"restecg\",\t\"thalach\",\t\"exang\",\"oldpeak\",\"slope\",\"ca\",\"thal\",\"condition\"])\n",
        "df_clean.head()"
      ],
      "metadata": {
        "id": "J02YGqrDC6TE"
      },
      "execution_count": null,
      "outputs": []
    },
    {
      "cell_type": "code",
      "source": [
        "df_clean.tail()"
      ],
      "metadata": {
        "id": "VzoDeHYWJwSD"
      },
      "execution_count": null,
      "outputs": []
    },
    {
      "cell_type": "markdown",
      "source": [],
      "metadata": {
        "id": "bpVScEz4DLHf"
      }
    },
    {
      "cell_type": "code",
      "source": [
        "correlations = abs(df_clean.corr())\n",
        "plt.figure(figsize=(10,10))\n",
        "sns.heatmap(correlations, annot=True)\n",
        "plt.show()"
      ],
      "metadata": {
        "id": "Pp0A9rAMN6B9"
      },
      "execution_count": null,
      "outputs": []
    },
    {
      "cell_type": "code",
      "source": [
        "X = df_clean.drop([\"condition\"], axis=1)\n",
        "y = df_clean[\"condition\"]\n",
        "\n",
        "X_train, X_val, y_val, y_train = train_test_split(X,y, test_size= 0.15, random_state = 417)\n",
        "\n",
        "features = {\n",
        "    \"MaxHR\",\n",
        "    \"oldpeak\",\n",
        "    \"Sex_M\",\n",
        "    \"ExerciseAngina_Y\",\n",
        "    \"ST_Slope_Flat\",\n",
        "    \"ST_Slope_Up\"\n",
        "}\n",
        "\n",
        "for feature in features:\n",
        "  knn = KNeighborsClassifier(n_neighbors=3)\n",
        "  knn.fit(X_train[feature],y_train)\n",
        "  accuracy = knn.score(X_val[feature],y_val)\n",
        "  print(f\"{feature}: {accuracy}\")"
      ],
      "metadata": {
        "id": "xl92rluVKsGs"
      },
      "execution_count": null,
      "outputs": []
    }
  ]
}