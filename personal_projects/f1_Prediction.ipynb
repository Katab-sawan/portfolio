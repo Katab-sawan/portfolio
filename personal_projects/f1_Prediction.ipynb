{
  "cells": [
    {
      "cell_type": "code",
      "execution_count": 1,
      "metadata": {
        "id": "MGHZ3_9Gmzcr"
      },
      "outputs": [
        {
          "name": "stdout",
          "output_type": "stream",
          "text": [
            "Collecting fastf1\n",
            "  Downloading fastf1-3.6.0-py3-none-any.whl.metadata (4.6 kB)\n",
            "Collecting matplotlib<4.0.0,>=3.5.1 (from fastf1)\n",
            "  Downloading matplotlib-3.10.3-cp311-cp311-win_amd64.whl.metadata (11 kB)\n",
            "Requirement already satisfied: numpy<3.0.0,>=1.23.1 in c:\\users\\csmksawa\\appdata\\local\\packages\\pythonsoftwarefoundation.python.3.11_qbz5n2kfra8p0\\localcache\\local-packages\\python311\\site-packages (from fastf1) (2.3.1)\n",
            "Requirement already satisfied: pandas<3.0.0,>=1.4.1 in c:\\users\\csmksawa\\appdata\\local\\packages\\pythonsoftwarefoundation.python.3.11_qbz5n2kfra8p0\\localcache\\local-packages\\python311\\site-packages (from fastf1) (2.3.0)\n",
            "Requirement already satisfied: python-dateutil in c:\\users\\csmksawa\\appdata\\local\\packages\\pythonsoftwarefoundation.python.3.11_qbz5n2kfra8p0\\localcache\\local-packages\\python311\\site-packages (from fastf1) (2.9.0.post0)\n",
            "Collecting rapidfuzz (from fastf1)\n",
            "  Downloading rapidfuzz-3.13.0-cp311-cp311-win_amd64.whl.metadata (12 kB)\n",
            "Collecting requests-cache>=1.0.0 (from fastf1)\n",
            "  Downloading requests_cache-1.2.1-py3-none-any.whl.metadata (9.9 kB)\n",
            "Requirement already satisfied: requests>=2.28.1 in c:\\users\\csmksawa\\appdata\\local\\packages\\pythonsoftwarefoundation.python.3.11_qbz5n2kfra8p0\\localcache\\local-packages\\python311\\site-packages (from fastf1) (2.32.4)\n",
            "Requirement already satisfied: scipy<2.0.0,>=1.8.1 in c:\\users\\csmksawa\\appdata\\local\\packages\\pythonsoftwarefoundation.python.3.11_qbz5n2kfra8p0\\localcache\\local-packages\\python311\\site-packages (from fastf1) (1.16.0)\n",
            "Collecting timple>=0.1.6 (from fastf1)\n",
            "  Downloading timple-0.1.8-py3-none-any.whl.metadata (2.0 kB)\n",
            "Collecting websockets<14,>=10.3 (from fastf1)\n",
            "  Downloading websockets-13.1-cp311-cp311-win_amd64.whl.metadata (7.0 kB)\n",
            "Collecting contourpy>=1.0.1 (from matplotlib<4.0.0,>=3.5.1->fastf1)\n",
            "  Downloading contourpy-1.3.2-cp311-cp311-win_amd64.whl.metadata (5.5 kB)\n",
            "Collecting cycler>=0.10 (from matplotlib<4.0.0,>=3.5.1->fastf1)\n",
            "  Downloading cycler-0.12.1-py3-none-any.whl.metadata (3.8 kB)\n",
            "Collecting fonttools>=4.22.0 (from matplotlib<4.0.0,>=3.5.1->fastf1)\n",
            "  Downloading fonttools-4.58.5-cp311-cp311-win_amd64.whl.metadata (109 kB)\n",
            "     ---------------------------------------- 0.0/109.0 kB ? eta -:--:--\n",
            "     -------------------------------------- 109.0/109.0 kB 3.2 MB/s eta 0:00:00\n",
            "Collecting kiwisolver>=1.3.1 (from matplotlib<4.0.0,>=3.5.1->fastf1)\n",
            "  Downloading kiwisolver-1.4.8-cp311-cp311-win_amd64.whl.metadata (6.3 kB)\n",
            "Requirement already satisfied: packaging>=20.0 in c:\\users\\csmksawa\\appdata\\local\\packages\\pythonsoftwarefoundation.python.3.11_qbz5n2kfra8p0\\localcache\\local-packages\\python311\\site-packages (from matplotlib<4.0.0,>=3.5.1->fastf1) (25.0)\n",
            "Collecting pillow>=8 (from matplotlib<4.0.0,>=3.5.1->fastf1)\n",
            "  Downloading pillow-11.3.0-cp311-cp311-win_amd64.whl.metadata (9.2 kB)\n",
            "Collecting pyparsing>=2.3.1 (from matplotlib<4.0.0,>=3.5.1->fastf1)\n",
            "  Downloading pyparsing-3.2.3-py3-none-any.whl.metadata (5.0 kB)\n",
            "Requirement already satisfied: pytz>=2020.1 in c:\\users\\csmksawa\\appdata\\local\\packages\\pythonsoftwarefoundation.python.3.11_qbz5n2kfra8p0\\localcache\\local-packages\\python311\\site-packages (from pandas<3.0.0,>=1.4.1->fastf1) (2025.2)\n",
            "Requirement already satisfied: tzdata>=2022.7 in c:\\users\\csmksawa\\appdata\\local\\packages\\pythonsoftwarefoundation.python.3.11_qbz5n2kfra8p0\\localcache\\local-packages\\python311\\site-packages (from pandas<3.0.0,>=1.4.1->fastf1) (2025.2)\n",
            "Requirement already satisfied: six>=1.5 in c:\\users\\csmksawa\\appdata\\local\\packages\\pythonsoftwarefoundation.python.3.11_qbz5n2kfra8p0\\localcache\\local-packages\\python311\\site-packages (from python-dateutil->fastf1) (1.17.0)\n",
            "Requirement already satisfied: charset_normalizer<4,>=2 in c:\\users\\csmksawa\\appdata\\local\\packages\\pythonsoftwarefoundation.python.3.11_qbz5n2kfra8p0\\localcache\\local-packages\\python311\\site-packages (from requests>=2.28.1->fastf1) (3.4.2)\n",
            "Requirement already satisfied: idna<4,>=2.5 in c:\\users\\csmksawa\\appdata\\local\\packages\\pythonsoftwarefoundation.python.3.11_qbz5n2kfra8p0\\localcache\\local-packages\\python311\\site-packages (from requests>=2.28.1->fastf1) (3.10)\n",
            "Requirement already satisfied: urllib3<3,>=1.21.1 in c:\\users\\csmksawa\\appdata\\local\\packages\\pythonsoftwarefoundation.python.3.11_qbz5n2kfra8p0\\localcache\\local-packages\\python311\\site-packages (from requests>=2.28.1->fastf1) (2.5.0)\n",
            "Requirement already satisfied: certifi>=2017.4.17 in c:\\users\\csmksawa\\appdata\\local\\packages\\pythonsoftwarefoundation.python.3.11_qbz5n2kfra8p0\\localcache\\local-packages\\python311\\site-packages (from requests>=2.28.1->fastf1) (2025.6.15)\n",
            "Collecting attrs>=21.2 (from requests-cache>=1.0.0->fastf1)\n",
            "  Downloading attrs-25.3.0-py3-none-any.whl.metadata (10 kB)\n",
            "Collecting cattrs>=22.2 (from requests-cache>=1.0.0->fastf1)\n",
            "  Downloading cattrs-25.1.1-py3-none-any.whl.metadata (8.4 kB)\n",
            "Requirement already satisfied: platformdirs>=2.5 in c:\\users\\csmksawa\\appdata\\local\\packages\\pythonsoftwarefoundation.python.3.11_qbz5n2kfra8p0\\localcache\\local-packages\\python311\\site-packages (from requests-cache>=1.0.0->fastf1) (4.3.8)\n",
            "Collecting url-normalize>=1.4 (from requests-cache>=1.0.0->fastf1)\n",
            "  Downloading url_normalize-2.2.1-py3-none-any.whl.metadata (5.6 kB)\n",
            "Requirement already satisfied: typing-extensions>=4.12.2 in c:\\users\\csmksawa\\appdata\\local\\packages\\pythonsoftwarefoundation.python.3.11_qbz5n2kfra8p0\\localcache\\local-packages\\python311\\site-packages (from cattrs>=22.2->requests-cache>=1.0.0->fastf1) (4.14.0)\n",
            "Downloading fastf1-3.6.0-py3-none-any.whl (148 kB)\n",
            "   ---------------------------------------- 0.0/148.4 kB ? eta -:--:--\n",
            "   ---------------------------------------- 148.4/148.4 kB 4.5 MB/s eta 0:00:00\n",
            "Downloading matplotlib-3.10.3-cp311-cp311-win_amd64.whl (8.1 MB)\n",
            "   ---------------------------------------- 0.0/8.1 MB ? eta -:--:--\n",
            "   -- ------------------------------------- 0.5/8.1 MB 10.7 MB/s eta 0:00:01\n",
            "   ---- ----------------------------------- 0.8/8.1 MB 10.8 MB/s eta 0:00:01\n",
            "   ------ --------------------------------- 1.4/8.1 MB 12.6 MB/s eta 0:00:01\n",
            "   --------- ------------------------------ 1.9/8.1 MB 10.9 MB/s eta 0:00:01\n",
            "   ----------- ---------------------------- 2.3/8.1 MB 11.2 MB/s eta 0:00:01\n",
            "   -------------- ------------------------- 2.8/8.1 MB 11.3 MB/s eta 0:00:01\n",
            "   ---------------- ----------------------- 3.4/8.1 MB 10.8 MB/s eta 0:00:01\n",
            "   ------------------ --------------------- 3.8/8.1 MB 10.9 MB/s eta 0:00:01\n",
            "   --------------------- ------------------ 4.3/8.1 MB 10.9 MB/s eta 0:00:01\n",
            "   ----------------------- ---------------- 4.7/8.1 MB 11.1 MB/s eta 0:00:01\n",
            "   ------------------------- -------------- 5.1/8.1 MB 10.8 MB/s eta 0:00:01\n",
            "   --------------------------- ------------ 5.5/8.1 MB 10.9 MB/s eta 0:00:01\n",
            "   ----------------------------- ---------- 5.9/8.1 MB 11.0 MB/s eta 0:00:01\n",
            "   ------------------------------- -------- 6.3/8.1 MB 11.2 MB/s eta 0:00:01\n",
            "   --------------------------------- ------ 6.7/8.1 MB 10.9 MB/s eta 0:00:01\n",
            "   ----------------------------------- ---- 7.1/8.1 MB 11.0 MB/s eta 0:00:01\n",
            "   ------------------------------------ --- 7.5/8.1 MB 10.8 MB/s eta 0:00:01\n",
            "   ---------------------------------------  7.9/8.1 MB 10.9 MB/s eta 0:00:01\n",
            "   ---------------------------------------- 8.1/8.1 MB 10.7 MB/s eta 0:00:00\n",
            "Downloading requests_cache-1.2.1-py3-none-any.whl (61 kB)\n",
            "   ---------------------------------------- 0.0/61.4 kB ? eta -:--:--\n",
            "   ---------------------------------------- 61.4/61.4 kB 3.4 MB/s eta 0:00:00\n",
            "Downloading timple-0.1.8-py3-none-any.whl (17 kB)\n",
            "Downloading websockets-13.1-cp311-cp311-win_amd64.whl (159 kB)\n",
            "   ---------------------------------------- 0.0/159.1 kB ? eta -:--:--\n",
            "   ---------------------------------------- 159.1/159.1 kB 9.3 MB/s eta 0:00:00\n",
            "Downloading rapidfuzz-3.13.0-cp311-cp311-win_amd64.whl (1.6 MB)\n",
            "   ---------------------------------------- 0.0/1.6 MB ? eta -:--:--\n",
            "   ----------- ---------------------------- 0.5/1.6 MB 9.4 MB/s eta 0:00:01\n",
            "   ----------------------- ---------------- 1.0/1.6 MB 10.2 MB/s eta 0:00:01\n",
            "   ------------------------------------ --- 1.5/1.6 MB 11.8 MB/s eta 0:00:01\n",
            "   ---------------------------------------- 1.6/1.6 MB 10.4 MB/s eta 0:00:00\n",
            "Downloading attrs-25.3.0-py3-none-any.whl (63 kB)\n",
            "   ---------------------------------------- 0.0/63.8 kB ? eta -:--:--\n",
            "   ---------------------------------------- 63.8/63.8 kB 3.3 MB/s eta 0:00:00\n",
            "Downloading cattrs-25.1.1-py3-none-any.whl (69 kB)\n",
            "   ---------------------------------------- 0.0/69.4 kB ? eta -:--:--\n",
            "   ---------------------------------------- 69.4/69.4 kB ? eta 0:00:00\n",
            "Downloading contourpy-1.3.2-cp311-cp311-win_amd64.whl (222 kB)\n",
            "   ---------------------------------------- 0.0/222.0 kB ? eta -:--:--\n",
            "   --------------------------------------- 222.0/222.0 kB 13.2 MB/s eta 0:00:00\n",
            "Downloading cycler-0.12.1-py3-none-any.whl (8.3 kB)\n",
            "Downloading fonttools-4.58.5-cp311-cp311-win_amd64.whl (2.2 MB)\n",
            "   ---------------------------------------- 0.0/2.2 MB ? eta -:--:--\n",
            "   -------- ------------------------------- 0.5/2.2 MB 9.8 MB/s eta 0:00:01\n",
            "   --------------- ------------------------ 0.9/2.2 MB 11.2 MB/s eta 0:00:01\n",
            "   ---------------------- ----------------- 1.3/2.2 MB 11.6 MB/s eta 0:00:01\n",
            "   ------------------------------- -------- 1.8/2.2 MB 11.3 MB/s eta 0:00:01\n",
            "   ---------------------------------------  2.2/2.2 MB 11.0 MB/s eta 0:00:01\n",
            "   ---------------------------------------- 2.2/2.2 MB 10.2 MB/s eta 0:00:00\n",
            "Downloading kiwisolver-1.4.8-cp311-cp311-win_amd64.whl (71 kB)\n",
            "   ---------------------------------------- 0.0/72.0 kB ? eta -:--:--\n",
            "   ---------------------------------------- 72.0/72.0 kB 3.9 MB/s eta 0:00:00\n",
            "Downloading pillow-11.3.0-cp311-cp311-win_amd64.whl (7.0 MB)\n",
            "   ---------------------------------------- 0.0/7.0 MB ? eta -:--:--\n",
            "   -- ------------------------------------- 0.4/7.0 MB 12.2 MB/s eta 0:00:01\n",
            "   ---- ----------------------------------- 0.8/7.0 MB 12.5 MB/s eta 0:00:01\n",
            "   ------ --------------------------------- 1.2/7.0 MB 12.9 MB/s eta 0:00:01\n",
            "   --------- ------------------------------ 1.7/7.0 MB 12.2 MB/s eta 0:00:01\n",
            "   ------------ --------------------------- 2.1/7.0 MB 11.2 MB/s eta 0:00:01\n",
            "   -------------- ------------------------- 2.5/7.0 MB 11.6 MB/s eta 0:00:01\n",
            "   ----------------- ---------------------- 3.0/7.0 MB 11.2 MB/s eta 0:00:01\n",
            "   ------------------- -------------------- 3.4/7.0 MB 11.3 MB/s eta 0:00:01\n",
            "   ---------------------- ----------------- 3.9/7.0 MB 11.2 MB/s eta 0:00:01\n",
            "   ------------------------ --------------- 4.2/7.0 MB 11.3 MB/s eta 0:00:01\n",
            "   -------------------------- ------------- 4.6/7.0 MB 11.3 MB/s eta 0:00:01\n",
            "   ----------------------------- ---------- 5.1/7.0 MB 11.3 MB/s eta 0:00:01\n",
            "   ------------------------------- -------- 5.5/7.0 MB 11.0 MB/s eta 0:00:01\n",
            "   ---------------------------------- ----- 6.1/7.0 MB 11.0 MB/s eta 0:00:01\n",
            "   ------------------------------------- -- 6.6/7.0 MB 11.3 MB/s eta 0:00:01\n",
            "   ---------------------------------------  7.0/7.0 MB 11.1 MB/s eta 0:00:01\n",
            "   ---------------------------------------  7.0/7.0 MB 11.2 MB/s eta 0:00:01\n",
            "   ---------------------------------------  7.0/7.0 MB 11.2 MB/s eta 0:00:01\n",
            "   ---------------------------------------- 7.0/7.0 MB 9.5 MB/s eta 0:00:00\n",
            "Downloading pyparsing-3.2.3-py3-none-any.whl (111 kB)\n",
            "   ---------------------------------------- 0.0/111.1 kB ? eta -:--:--\n",
            "   ---------------------------------------- 111.1/111.1 kB 3.2 MB/s eta 0:00:00\n",
            "Downloading url_normalize-2.2.1-py3-none-any.whl (14 kB)\n",
            "Installing collected packages: websockets, url-normalize, rapidfuzz, pyparsing, pillow, kiwisolver, fonttools, cycler, contourpy, attrs, matplotlib, cattrs, timple, requests-cache, fastf1\n",
            "  Attempting uninstall: websockets\n",
            "    Found existing installation: websockets 15.0.1\n",
            "    Uninstalling websockets-15.0.1:\n",
            "      Successfully uninstalled websockets-15.0.1\n",
            "Successfully installed attrs-25.3.0 cattrs-25.1.1 contourpy-1.3.2 cycler-0.12.1 fastf1-3.6.0 fonttools-4.58.5 kiwisolver-1.4.8 matplotlib-3.10.3 pillow-11.3.0 pyparsing-3.2.3 rapidfuzz-3.13.0 requests-cache-1.2.1 timple-0.1.8 url-normalize-2.2.1 websockets-13.1\n",
            "Note: you may need to restart the kernel to use updated packages.\n"
          ]
        },
        {
          "name": "stderr",
          "output_type": "stream",
          "text": [
            "\n",
            "[notice] A new release of pip is available: 24.0 -> 25.1.1\n",
            "[notice] To update, run: C:\\Users\\CSMKSAWA\\AppData\\Local\\Microsoft\\WindowsApps\\PythonSoftwareFoundation.Python.3.11_qbz5n2kfra8p0\\python.exe -m pip install --upgrade pip\n"
          ]
        }
      ],
      "source": [
        "pip install fastf1"
      ]
    },
    {
      "cell_type": "code",
      "execution_count": 2,
      "metadata": {
        "id": "UJK9snQlnFeB"
      },
      "outputs": [
        {
          "name": "stdout",
          "output_type": "stream",
          "text": [
            "Collecting git+https://github.com/theOehrly/Fast-F1.git\n",
            "  Cloning https://github.com/theOehrly/Fast-F1.git to c:\\users\\csmksawa\\appdata\\local\\temp\\pip-req-build-4aehvblj\n",
            "  Resolved https://github.com/theOehrly/Fast-F1.git to commit c5c7a98a24178062443b44dbd4a87f0ddbac1c2f\n",
            "  Installing build dependencies: started\n",
            "  Installing build dependencies: finished with status 'done'\n",
            "  Getting requirements to build wheel: started\n",
            "  Getting requirements to build wheel: finished with status 'done'\n",
            "  Preparing metadata (pyproject.toml): started\n",
            "  Preparing metadata (pyproject.toml): finished with status 'done'\n",
            "Requirement already satisfied: matplotlib<4.0.0,>=3.5.1 in c:\\users\\csmksawa\\appdata\\local\\packages\\pythonsoftwarefoundation.python.3.11_qbz5n2kfra8p0\\localcache\\local-packages\\python311\\site-packages (from fastf1==3.6.0) (3.10.3)\n",
            "Requirement already satisfied: numpy<3.0.0,>=1.23.1 in c:\\users\\csmksawa\\appdata\\local\\packages\\pythonsoftwarefoundation.python.3.11_qbz5n2kfra8p0\\localcache\\local-packages\\python311\\site-packages (from fastf1==3.6.0) (2.3.1)\n",
            "Requirement already satisfied: pandas<3.0.0,>=1.4.1 in c:\\users\\csmksawa\\appdata\\local\\packages\\pythonsoftwarefoundation.python.3.11_qbz5n2kfra8p0\\localcache\\local-packages\\python311\\site-packages (from fastf1==3.6.0) (2.3.0)\n",
            "Requirement already satisfied: python-dateutil in c:\\users\\csmksawa\\appdata\\local\\packages\\pythonsoftwarefoundation.python.3.11_qbz5n2kfra8p0\\localcache\\local-packages\\python311\\site-packages (from fastf1==3.6.0) (2.9.0.post0)\n",
            "Requirement already satisfied: rapidfuzz in c:\\users\\csmksawa\\appdata\\local\\packages\\pythonsoftwarefoundation.python.3.11_qbz5n2kfra8p0\\localcache\\local-packages\\python311\\site-packages (from fastf1==3.6.0) (3.13.0)\n",
            "Requirement already satisfied: requests-cache>=1.0.0 in c:\\users\\csmksawa\\appdata\\local\\packages\\pythonsoftwarefoundation.python.3.11_qbz5n2kfra8p0\\localcache\\local-packages\\python311\\site-packages (from fastf1==3.6.0) (1.2.1)\n",
            "Requirement already satisfied: requests>=2.28.1 in c:\\users\\csmksawa\\appdata\\local\\packages\\pythonsoftwarefoundation.python.3.11_qbz5n2kfra8p0\\localcache\\local-packages\\python311\\site-packages (from fastf1==3.6.0) (2.32.4)\n",
            "Requirement already satisfied: scipy<2.0.0,>=1.8.1 in c:\\users\\csmksawa\\appdata\\local\\packages\\pythonsoftwarefoundation.python.3.11_qbz5n2kfra8p0\\localcache\\local-packages\\python311\\site-packages (from fastf1==3.6.0) (1.16.0)\n",
            "Requirement already satisfied: timple>=0.1.6 in c:\\users\\csmksawa\\appdata\\local\\packages\\pythonsoftwarefoundation.python.3.11_qbz5n2kfra8p0\\localcache\\local-packages\\python311\\site-packages (from fastf1==3.6.0) (0.1.8)\n",
            "Requirement already satisfied: websockets<14,>=10.3 in c:\\users\\csmksawa\\appdata\\local\\packages\\pythonsoftwarefoundation.python.3.11_qbz5n2kfra8p0\\localcache\\local-packages\\python311\\site-packages (from fastf1==3.6.0) (13.1)\n",
            "Requirement already satisfied: contourpy>=1.0.1 in c:\\users\\csmksawa\\appdata\\local\\packages\\pythonsoftwarefoundation.python.3.11_qbz5n2kfra8p0\\localcache\\local-packages\\python311\\site-packages (from matplotlib<4.0.0,>=3.5.1->fastf1==3.6.0) (1.3.2)\n",
            "Requirement already satisfied: cycler>=0.10 in c:\\users\\csmksawa\\appdata\\local\\packages\\pythonsoftwarefoundation.python.3.11_qbz5n2kfra8p0\\localcache\\local-packages\\python311\\site-packages (from matplotlib<4.0.0,>=3.5.1->fastf1==3.6.0) (0.12.1)\n",
            "Requirement already satisfied: fonttools>=4.22.0 in c:\\users\\csmksawa\\appdata\\local\\packages\\pythonsoftwarefoundation.python.3.11_qbz5n2kfra8p0\\localcache\\local-packages\\python311\\site-packages (from matplotlib<4.0.0,>=3.5.1->fastf1==3.6.0) (4.58.5)\n",
            "Requirement already satisfied: kiwisolver>=1.3.1 in c:\\users\\csmksawa\\appdata\\local\\packages\\pythonsoftwarefoundation.python.3.11_qbz5n2kfra8p0\\localcache\\local-packages\\python311\\site-packages (from matplotlib<4.0.0,>=3.5.1->fastf1==3.6.0) (1.4.8)\n",
            "Requirement already satisfied: packaging>=20.0 in c:\\users\\csmksawa\\appdata\\local\\packages\\pythonsoftwarefoundation.python.3.11_qbz5n2kfra8p0\\localcache\\local-packages\\python311\\site-packages (from matplotlib<4.0.0,>=3.5.1->fastf1==3.6.0) (25.0)\n",
            "Requirement already satisfied: pillow>=8 in c:\\users\\csmksawa\\appdata\\local\\packages\\pythonsoftwarefoundation.python.3.11_qbz5n2kfra8p0\\localcache\\local-packages\\python311\\site-packages (from matplotlib<4.0.0,>=3.5.1->fastf1==3.6.0) (11.3.0)\n",
            "Requirement already satisfied: pyparsing>=2.3.1 in c:\\users\\csmksawa\\appdata\\local\\packages\\pythonsoftwarefoundation.python.3.11_qbz5n2kfra8p0\\localcache\\local-packages\\python311\\site-packages (from matplotlib<4.0.0,>=3.5.1->fastf1==3.6.0) (3.2.3)\n",
            "Requirement already satisfied: pytz>=2020.1 in c:\\users\\csmksawa\\appdata\\local\\packages\\pythonsoftwarefoundation.python.3.11_qbz5n2kfra8p0\\localcache\\local-packages\\python311\\site-packages (from pandas<3.0.0,>=1.4.1->fastf1==3.6.0) (2025.2)\n",
            "Requirement already satisfied: tzdata>=2022.7 in c:\\users\\csmksawa\\appdata\\local\\packages\\pythonsoftwarefoundation.python.3.11_qbz5n2kfra8p0\\localcache\\local-packages\\python311\\site-packages (from pandas<3.0.0,>=1.4.1->fastf1==3.6.0) (2025.2)\n",
            "Requirement already satisfied: six>=1.5 in c:\\users\\csmksawa\\appdata\\local\\packages\\pythonsoftwarefoundation.python.3.11_qbz5n2kfra8p0\\localcache\\local-packages\\python311\\site-packages (from python-dateutil->fastf1==3.6.0) (1.17.0)\n",
            "Requirement already satisfied: charset_normalizer<4,>=2 in c:\\users\\csmksawa\\appdata\\local\\packages\\pythonsoftwarefoundation.python.3.11_qbz5n2kfra8p0\\localcache\\local-packages\\python311\\site-packages (from requests>=2.28.1->fastf1==3.6.0) (3.4.2)\n",
            "Requirement already satisfied: idna<4,>=2.5 in c:\\users\\csmksawa\\appdata\\local\\packages\\pythonsoftwarefoundation.python.3.11_qbz5n2kfra8p0\\localcache\\local-packages\\python311\\site-packages (from requests>=2.28.1->fastf1==3.6.0) (3.10)\n",
            "Requirement already satisfied: urllib3<3,>=1.21.1 in c:\\users\\csmksawa\\appdata\\local\\packages\\pythonsoftwarefoundation.python.3.11_qbz5n2kfra8p0\\localcache\\local-packages\\python311\\site-packages (from requests>=2.28.1->fastf1==3.6.0) (2.5.0)\n",
            "Requirement already satisfied: certifi>=2017.4.17 in c:\\users\\csmksawa\\appdata\\local\\packages\\pythonsoftwarefoundation.python.3.11_qbz5n2kfra8p0\\localcache\\local-packages\\python311\\site-packages (from requests>=2.28.1->fastf1==3.6.0) (2025.6.15)\n",
            "Requirement already satisfied: attrs>=21.2 in c:\\users\\csmksawa\\appdata\\local\\packages\\pythonsoftwarefoundation.python.3.11_qbz5n2kfra8p0\\localcache\\local-packages\\python311\\site-packages (from requests-cache>=1.0.0->fastf1==3.6.0) (25.3.0)\n",
            "Requirement already satisfied: cattrs>=22.2 in c:\\users\\csmksawa\\appdata\\local\\packages\\pythonsoftwarefoundation.python.3.11_qbz5n2kfra8p0\\localcache\\local-packages\\python311\\site-packages (from requests-cache>=1.0.0->fastf1==3.6.0) (25.1.1)\n",
            "Requirement already satisfied: platformdirs>=2.5 in c:\\users\\csmksawa\\appdata\\local\\packages\\pythonsoftwarefoundation.python.3.11_qbz5n2kfra8p0\\localcache\\local-packages\\python311\\site-packages (from requests-cache>=1.0.0->fastf1==3.6.0) (4.3.8)\n",
            "Requirement already satisfied: url-normalize>=1.4 in c:\\users\\csmksawa\\appdata\\local\\packages\\pythonsoftwarefoundation.python.3.11_qbz5n2kfra8p0\\localcache\\local-packages\\python311\\site-packages (from requests-cache>=1.0.0->fastf1==3.6.0) (2.2.1)\n",
            "Requirement already satisfied: typing-extensions>=4.12.2 in c:\\users\\csmksawa\\appdata\\local\\packages\\pythonsoftwarefoundation.python.3.11_qbz5n2kfra8p0\\localcache\\local-packages\\python311\\site-packages (from cattrs>=22.2->requests-cache>=1.0.0->fastf1==3.6.0) (4.14.0)\n",
            "Note: you may need to restart the kernel to use updated packages.\n"
          ]
        },
        {
          "name": "stderr",
          "output_type": "stream",
          "text": [
            "  Running command git clone --filter=blob:none --quiet https://github.com/theOehrly/Fast-F1.git 'C:\\Users\\CSMKSAWA\\AppData\\Local\\Temp\\pip-req-build-4aehvblj'\n",
            "\n",
            "[notice] A new release of pip is available: 24.0 -> 25.1.1\n",
            "[notice] To update, run: C:\\Users\\CSMKSAWA\\AppData\\Local\\Microsoft\\WindowsApps\\PythonSoftwareFoundation.Python.3.11_qbz5n2kfra8p0\\python.exe -m pip install --upgrade pip\n"
          ]
        }
      ],
      "source": [
        "pip install git+https://github.com/theOehrly/Fast-F1.git\n"
      ]
    },
    {
      "cell_type": "code",
      "execution_count": 3,
      "metadata": {
        "id": "oUGkjBo5SopY"
      },
      "outputs": [],
      "source": [
        "import os\n",
        "import fastf1\n",
        "\n",
        "os.makedirs('./cache', exist_ok=True)  # ✅ Create the cache folder if it doesn't exist\n",
        "fastf1.Cache.enable_cache('./cache')   # ✅ Now FastF1 can use it"
      ]
    },
    {
      "cell_type": "code",
      "execution_count": 4,
      "metadata": {
        "id": "t3Sc5CHSS0KG"
      },
      "outputs": [],
      "source": [
        "import fastf1\n",
        "fastf1.Cache.enable_cache('./cache')  # Set a local directory for cache\n"
      ]
    },
    {
      "cell_type": "code",
      "execution_count": 5,
      "metadata": {
        "id": "5I06_rGzS4F5"
      },
      "outputs": [
        {
          "name": "stderr",
          "output_type": "stream",
          "text": [
            "core           INFO \tLoading data for British Grand Prix - Qualifying [v3.6.0]\n",
            "req            INFO \tNo cached data found for session_info. Loading data...\n",
            "_api           INFO \tFetching session info data...\n",
            "req            INFO \tData has been written to cache!\n",
            "req            INFO \tNo cached data found for driver_info. Loading data...\n",
            "_api           INFO \tFetching driver list...\n",
            "req            INFO \tData has been written to cache!\n",
            "req            INFO \tNo cached data found for session_status_data. Loading data...\n",
            "_api           INFO \tFetching session status data...\n",
            "req            INFO \tData has been written to cache!\n",
            "req            INFO \tNo cached data found for track_status_data. Loading data...\n",
            "_api           INFO \tFetching track status data...\n",
            "req            INFO \tData has been written to cache!\n",
            "req            INFO \tNo cached data found for _extended_timing_data. Loading data...\n",
            "_api           INFO \tFetching timing data...\n",
            "_api           INFO \tParsing timing data...\n",
            "req            INFO \tData has been written to cache!\n",
            "req            INFO \tNo cached data found for timing_app_data. Loading data...\n",
            "_api           INFO \tFetching timing app data...\n",
            "req            INFO \tData has been written to cache!\n",
            "core           INFO \tProcessing timing data...\n",
            "core        WARNING \tFixed incorrect tyre stint information for driver '18'\n",
            "req            INFO \tNo cached data found for car_data. Loading data...\n",
            "_api           INFO \tFetching car data...\n",
            "_api           INFO \tParsing car data...\n",
            "req            INFO \tData has been written to cache!\n",
            "req            INFO \tNo cached data found for position_data. Loading data...\n",
            "_api           INFO \tFetching position data...\n",
            "_api           INFO \tParsing position data...\n",
            "req            INFO \tData has been written to cache!\n",
            "req            INFO \tNo cached data found for weather_data. Loading data...\n",
            "_api           INFO \tFetching weather data...\n",
            "req            INFO \tData has been written to cache!\n",
            "req            INFO \tNo cached data found for race_control_messages. Loading data...\n",
            "_api           INFO \tFetching race control messages...\n",
            "req            INFO \tData has been written to cache!\n",
            "core           INFO \tFinished loading data for 20 drivers: ['63', '44', '4', '1', '81', '27', '55', '18', '23', '14', '16', '2', '22', '24', '3', '77', '20', '31', '11', '10']\n"
          ]
        },
        {
          "name": "stdout",
          "output_type": "stream",
          "text": [
            "   DriverNumber BroadcastName Abbreviation         DriverId         TeamName  \\\n",
            "63           63     G RUSSELL          RUS          russell         Mercedes   \n",
            "44           44    L HAMILTON          HAM         hamilton         Mercedes   \n",
            "4             4      L NORRIS          NOR           norris          McLaren   \n",
            "1             1  M VERSTAPPEN          VER   max_verstappen  Red Bull Racing   \n",
            "81           81     O PIASTRI          PIA          piastri          McLaren   \n",
            "27           27  N HULKENBERG          HUL       hulkenberg     Haas F1 Team   \n",
            "55           55       C SAINZ          SAI            sainz          Ferrari   \n",
            "18           18      L STROLL          STR           stroll     Aston Martin   \n",
            "23           23       A ALBON          ALB            albon         Williams   \n",
            "14           14      F ALONSO          ALO           alonso     Aston Martin   \n",
            "16           16     C LECLERC          LEC          leclerc          Ferrari   \n",
            "2             2    L SARGEANT          SAR         sargeant         Williams   \n",
            "22           22     Y TSUNODA          TSU          tsunoda               RB   \n",
            "24           24        G ZHOU          ZHO             zhou      Kick Sauber   \n",
            "3             3   D RICCIARDO          RIC        ricciardo               RB   \n",
            "77           77      V BOTTAS          BOT           bottas      Kick Sauber   \n",
            "20           20   K MAGNUSSEN          MAG  kevin_magnussen     Haas F1 Team   \n",
            "31           31        E OCON          OCO             ocon           Alpine   \n",
            "11           11       S PEREZ          PER            perez  Red Bull Racing   \n",
            "10           10       P GASLY          GAS            gasly           Alpine   \n",
            "\n",
            "   TeamColor        TeamId  FirstName    LastName          FullName  ...  \\\n",
            "63    27F4D2      mercedes     George     Russell    George Russell  ...   \n",
            "44    27F4D2      mercedes      Lewis    Hamilton    Lewis Hamilton  ...   \n",
            "4     FF8000       mclaren      Lando      Norris      Lando Norris  ...   \n",
            "1     3671C6      red_bull        Max  Verstappen    Max Verstappen  ...   \n",
            "81    FF8000       mclaren      Oscar     Piastri     Oscar Piastri  ...   \n",
            "27    B6BABD          haas       Nico  Hulkenberg   Nico Hulkenberg  ...   \n",
            "55    E80020       ferrari     Carlos       Sainz      Carlos Sainz  ...   \n",
            "18    229971  aston_martin      Lance      Stroll      Lance Stroll  ...   \n",
            "23    64C4FF      williams  Alexander       Albon   Alexander Albon  ...   \n",
            "14    229971  aston_martin   Fernando      Alonso   Fernando Alonso  ...   \n",
            "16    E80020       ferrari    Charles     Leclerc   Charles Leclerc  ...   \n",
            "2     64C4FF      williams      Logan    Sargeant    Logan Sargeant  ...   \n",
            "22    6692FF            rb       Yuki     Tsunoda      Yuki Tsunoda  ...   \n",
            "24    52e252        sauber     Guanyu        Zhou       Guanyu Zhou  ...   \n",
            "3     6692FF            rb     Daniel   Ricciardo  Daniel Ricciardo  ...   \n",
            "77    52e252        sauber   Valtteri      Bottas   Valtteri Bottas  ...   \n",
            "20    B6BABD          haas      Kevin   Magnussen   Kevin Magnussen  ...   \n",
            "31    0093cc        alpine    Esteban        Ocon      Esteban Ocon  ...   \n",
            "11    3671C6      red_bull     Sergio       Perez      Sergio Perez  ...   \n",
            "10    0093cc        alpine     Pierre       Gasly      Pierre Gasly  ...   \n",
            "\n",
            "   Position ClassifiedPosition  GridPosition                     Q1  \\\n",
            "63      1.0                              NaN 0 days 00:01:30.106000   \n",
            "44      2.0                              NaN 0 days 00:01:29.547000   \n",
            "4       3.0                              NaN 0 days 00:01:31.596000   \n",
            "1       4.0                              NaN 0 days 00:01:31.342000   \n",
            "81      5.0                              NaN 0 days 00:01:30.895000   \n",
            "27      6.0                              NaN 0 days 00:01:31.929000   \n",
            "55      7.0                              NaN 0 days 00:01:30.557000   \n",
            "18      8.0                              NaN 0 days 00:01:31.410000   \n",
            "23      9.0                              NaN 0 days 00:01:31.135000   \n",
            "14     10.0                              NaN 0 days 00:01:31.264000   \n",
            "16     11.0                              NaN 0 days 00:01:30.496000   \n",
            "2      12.0                              NaN 0 days 00:01:31.608000   \n",
            "22     13.0                              NaN 0 days 00:01:30.994000   \n",
            "24     14.0                              NaN 0 days 00:01:31.190000   \n",
            "3      15.0                              NaN 0 days 00:01:31.291000   \n",
            "77     16.0                              NaN 0 days 00:01:32.431000   \n",
            "20     17.0                              NaN 0 days 00:01:32.905000   \n",
            "31     18.0                              NaN 0 days 00:01:34.557000   \n",
            "11     19.0                              NaN 0 days 00:01:38.348000   \n",
            "10     20.0                              NaN 0 days 00:01:39.804000   \n",
            "\n",
            "                       Q2                     Q3 Time Status Points Laps  \n",
            "63 0 days 00:01:26.723000 0 days 00:01:25.819000  NaT           NaN  NaN  \n",
            "44 0 days 00:01:26.770000 0 days 00:01:25.990000  NaT           NaN  NaN  \n",
            "4  0 days 00:01:26.559000 0 days 00:01:26.030000  NaT           NaN  NaN  \n",
            "1  0 days 00:01:26.796000 0 days 00:01:26.203000  NaT           NaN  NaN  \n",
            "81 0 days 00:01:26.733000 0 days 00:01:26.237000  NaT           NaN  NaN  \n",
            "27 0 days 00:01:26.847000 0 days 00:01:26.338000  NaT           NaN  NaN  \n",
            "55 0 days 00:01:26.843000 0 days 00:01:26.509000  NaT           NaN  NaN  \n",
            "18 0 days 00:01:26.938000 0 days 00:01:26.585000  NaT           NaN  NaN  \n",
            "23 0 days 00:01:26.933000 0 days 00:01:26.640000  NaT           NaN  NaN  \n",
            "14 0 days 00:01:26.730000 0 days 00:01:26.917000  NaT           NaN  NaN  \n",
            "16 0 days 00:01:27.097000                    NaT  NaT           NaN  NaN  \n",
            "2  0 days 00:01:27.175000                    NaT  NaT           NaN  NaN  \n",
            "22 0 days 00:01:27.269000                    NaT  NaT           NaN  NaN  \n",
            "24 0 days 00:01:27.867000                    NaT  NaT           NaN  NaN  \n",
            "3  0 days 00:01:27.949000                    NaT  NaT           NaN  NaN  \n",
            "77                    NaT                    NaT  NaT           NaN  NaN  \n",
            "20                    NaT                    NaT  NaT           NaN  NaN  \n",
            "31                    NaT                    NaT  NaT           NaN  NaN  \n",
            "11                    NaT                    NaT  NaT           NaN  NaN  \n",
            "10                    NaT                    NaT  NaT           NaN  NaN  \n",
            "\n",
            "[20 rows x 22 columns]\n"
          ]
        }
      ],
      "source": [
        "session = fastf1.get_session(2024, 'Silverstone', 'Q')  # British GP Qualifying\n",
        "session.load()\n",
        "print(session.results)"
      ]
    },
    {
      "cell_type": "code",
      "execution_count": 6,
      "metadata": {
        "id": "_wkBgmWDTVfO"
      },
      "outputs": [
        {
          "name": "stderr",
          "output_type": "stream",
          "text": [
            "core           INFO \tLoading data for British Grand Prix - Race [v3.6.0]\n",
            "req            INFO \tNo cached data found for session_info. Loading data...\n",
            "_api           INFO \tFetching session info data...\n",
            "req            INFO \tData has been written to cache!\n",
            "req            INFO \tNo cached data found for driver_info. Loading data...\n",
            "_api           INFO \tFetching driver list...\n",
            "req            INFO \tData has been written to cache!\n",
            "req            INFO \tNo cached data found for session_status_data. Loading data...\n",
            "_api           INFO \tFetching session status data...\n",
            "req            INFO \tData has been written to cache!\n",
            "req            INFO \tNo cached data found for lap_count. Loading data...\n",
            "_api           INFO \tFetching lap count data...\n",
            "req            INFO \tData has been written to cache!\n",
            "req            INFO \tNo cached data found for track_status_data. Loading data...\n",
            "_api           INFO \tFetching track status data...\n",
            "req            INFO \tData has been written to cache!\n",
            "req            INFO \tNo cached data found for _extended_timing_data. Loading data...\n",
            "_api           INFO \tFetching timing data...\n",
            "_api           INFO \tParsing timing data...\n",
            "req            INFO \tData has been written to cache!\n",
            "req            INFO \tNo cached data found for timing_app_data. Loading data...\n",
            "_api           INFO \tFetching timing app data...\n",
            "req            INFO \tData has been written to cache!\n",
            "core           INFO \tProcessing timing data...\n",
            "req            INFO \tNo cached data found for car_data. Loading data...\n",
            "_api           INFO \tFetching car data...\n",
            "_api           INFO \tParsing car data...\n",
            "_api        WARNING \tDriver 21: Car data is incomplete!\n",
            "_api        WARNING \tDriver  3: Car data is incomplete!\n",
            "req            INFO \tData has been written to cache!\n",
            "req            INFO \tNo cached data found for position_data. Loading data...\n",
            "_api           INFO \tFetching position data...\n",
            "_api           INFO \tParsing position data...\n",
            "_api        WARNING \tDriver 21: Position data is incomplete!\n",
            "_api        WARNING \tDriver  3: Position data is incomplete!\n",
            "req            INFO \tData has been written to cache!\n",
            "req            INFO \tNo cached data found for weather_data. Loading data...\n",
            "_api           INFO \tFetching weather data...\n",
            "req            INFO \tData has been written to cache!\n",
            "req            INFO \tNo cached data found for race_control_messages. Loading data...\n",
            "_api           INFO \tFetching race control messages...\n",
            "req            INFO \tData has been written to cache!\n",
            "core           INFO \tFinished loading data for 20 drivers: ['44', '1', '4', '81', '55', '27', '18', '14', '23', '22', '2', '20', '3', '16', '77', '31', '11', '24', '63', '10']\n"
          ]
        },
        {
          "name": "stdout",
          "output_type": "stream",
          "text": [
            "           driver             team  grid_pos  finish_pos  points    status  \\\n",
            "0  Lewis Hamilton         Mercedes       2.0         1.0    25.0  Finished   \n",
            "1  Max Verstappen  Red Bull Racing       4.0         2.0    18.0  Finished   \n",
            "2    Lando Norris          McLaren       3.0         3.0    15.0  Finished   \n",
            "3   Oscar Piastri          McLaren       5.0         4.0    12.0  Finished   \n",
            "4    Carlos Sainz          Ferrari       7.0         5.0    11.0  Finished   \n",
            "\n",
            "   winner  \n",
            "0       1  \n",
            "1       0  \n",
            "2       0  \n",
            "3       0  \n",
            "4       0  \n",
            "           driver             team  grid_pos  finish_pos  points    status  \\\n",
            "0  Lewis Hamilton         Mercedes       2.0         1.0    25.0  Finished   \n",
            "1  Max Verstappen  Red Bull Racing       4.0         2.0    18.0  Finished   \n",
            "2    Lando Norris          McLaren       3.0         3.0    15.0  Finished   \n",
            "3   Oscar Piastri          McLaren       5.0         4.0    12.0  Finished   \n",
            "4    Carlos Sainz          Ferrari       7.0         5.0    11.0  Finished   \n",
            "\n",
            "   winner  \n",
            "0       1  \n",
            "1       0  \n",
            "2       0  \n",
            "3       0  \n",
            "4       0  \n"
          ]
        }
      ],
      "source": [
        "from fastf1 import plotting\n",
        "import pandas as pd\n",
        "\n",
        "os.makedirs('./cache', exist_ok=True)\n",
        "fastf1.Cache.enable_cache('./cache')\n",
        "\n",
        "# Load session\n",
        "session = fastf1.get_session(2024, 'Silverstone', 'R')  # Race session\n",
        "session.load()\n",
        "\n",
        "# Get results\n",
        "results = session.results\n",
        "\n",
        "data = []\n",
        "for _, row in results.iterrows():\n",
        "    data.append({\n",
        "        'driver': row['FullName'],        # Use full driver name\n",
        "        'team': row['TeamName'],\n",
        "        'grid_pos': row['GridPosition'],\n",
        "        'finish_pos': row['Position'],\n",
        "        'points': row['Points'],\n",
        "        'status': row['Status'],\n",
        "        'winner': 1 if row['Position'] == 1 else 0\n",
        "    })\n",
        "\n",
        "df = pd.DataFrame(data)\n",
        "print(df.head())\n",
        "\n",
        "df['winner'] = (df['finish_pos'] == 1).astype(int)\n",
        "print(df.head())\n"
      ]
    },
    {
      "cell_type": "code",
      "execution_count": 7,
      "metadata": {
        "id": "5vrbLYIbUNDO"
      },
      "outputs": [
        {
          "name": "stdout",
          "output_type": "stream",
          "text": [
            "Accuracy: 1.00\n"
          ]
        }
      ],
      "source": [
        "from sklearn.model_selection import train_test_split\n",
        "from sklearn.ensemble import RandomForestClassifier\n",
        "from sklearn.preprocessing import LabelEncoder\n",
        "\n",
        "# Encode categorical columns\n",
        "le_driver = LabelEncoder()\n",
        "df['driver_encoded'] = le_driver.fit_transform(df['driver'])\n",
        "\n",
        "le_team = LabelEncoder()\n",
        "df['team_encoded'] = le_team.fit_transform(df['team'])\n",
        "\n",
        "X = df[['grid_pos', 'team_encoded', 'driver_encoded']]\n",
        "y = df['winner']\n",
        "\n",
        "X_train, X_test, y_train, y_test = train_test_split(X, y, test_size=0.3)\n",
        "\n",
        "clf = RandomForestClassifier()\n",
        "clf.fit(X_train, y_train)\n",
        "\n",
        "acc = clf.score(X_test, y_test)\n",
        "print(f\"Accuracy: {acc:.2f}\")\n"
      ]
    },
    {
      "cell_type": "code",
      "execution_count": 8,
      "metadata": {
        "id": "7H245ep0UjZl"
      },
      "outputs": [
        {
          "name": "stdout",
          "output_type": "stream",
          "text": [
            "              precision    recall  f1-score   support\n",
            "\n",
            "           0       1.00      1.00      1.00         6\n",
            "\n",
            "    accuracy                           1.00         6\n",
            "   macro avg       1.00      1.00      1.00         6\n",
            "weighted avg       1.00      1.00      1.00         6\n",
            "\n",
            "[[6]]\n"
          ]
        },
        {
          "name": "stderr",
          "output_type": "stream",
          "text": [
            "C:\\Users\\CSMKSAWA\\AppData\\Local\\Packages\\PythonSoftwareFoundation.Python.3.11_qbz5n2kfra8p0\\LocalCache\\local-packages\\Python311\\site-packages\\sklearn\\metrics\\_classification.py:534: UserWarning: A single label was found in 'y_true' and 'y_pred'. For the confusion matrix to have the correct shape, use the 'labels' parameter to pass all known labels.\n",
            "  warnings.warn(\n"
          ]
        }
      ],
      "source": [
        "from sklearn.metrics import classification_report, confusion_matrix\n",
        "\n",
        "y_pred = clf.predict(X_test)\n",
        "\n",
        "print(classification_report(y_test, y_pred))\n",
        "print(confusion_matrix(y_test, y_pred))\n"
      ]
    },
    {
      "cell_type": "code",
      "execution_count": 9,
      "metadata": {
        "id": "mYh7GU7LUrvS"
      },
      "outputs": [
        {
          "data": {
            "image/png": "[encoded data removed]",
            "text/plain": [
              "<Figure size 640x480 with 1 Axes>"
            ]
          },
          "metadata": {},
          "output_type": "display_data"
        }
      ],
      "source": [
        "import matplotlib.pyplot as plt\n",
        "\n",
        "importances = clf.feature_importances_\n",
        "features = X.columns\n",
        "\n",
        "plt.barh(features, importances)\n",
        "plt.xlabel(\"Feature Importance\")\n",
        "plt.title(\"What the model thinks is important\")\n",
        "plt.show()\n"
      ]
    },
    {
      "cell_type": "code",
      "execution_count": 10,
      "metadata": {
        "id": "7PaSCf7MU2d1"
      },
      "outputs": [
        {
          "name": "stdout",
          "output_type": "stream",
          "text": [
            "\n",
            "Predictions on new data:\n",
            "   grid_pos          driver             team  driver_encoded  team_encoded  \\\n",
            "0         1  Max Verstappen  Red Bull Racing              13             8   \n",
            "1         2    Lando Norris          McLaren              10             5   \n",
            "2         3  Lewis Hamilton         Mercedes              11             6   \n",
            "3         4    Carlos Sainz          Ferrari               1             2   \n",
            "4         5    Sergio Perez  Red Bull Racing              17             8   \n",
            "\n",
            "   predicted_winner  \n",
            "0                 0  \n",
            "1                 0  \n",
            "2                 0  \n",
            "3                 0  \n",
            "4                 0  \n",
            "\n",
            "Predicted winners:\n"
          ]
        },
        {
          "data": {
            "text/html": [
              "<div>\n",
              "<style scoped>\n",
              "    .dataframe tbody tr th:only-of-type {\n",
              "        vertical-align: middle;\n",
              "    }\n",
              "\n",
              "    .dataframe tbody tr th {\n",
              "        vertical-align: top;\n",
              "    }\n",
              "\n",
              "    .dataframe thead th {\n",
              "        text-align: right;\n",
              "    }\n",
              "</style>\n",
              "<table border=\"1\" class=\"dataframe\">\n",
              "  <thead>\n",
              "    <tr style=\"text-align: right;\">\n",
              "      <th></th>\n",
              "      <th>grid_pos</th>\n",
              "      <th>driver</th>\n",
              "      <th>team</th>\n",
              "      <th>driver_encoded</th>\n",
              "      <th>team_encoded</th>\n",
              "      <th>predicted_winner</th>\n",
              "    </tr>\n",
              "  </thead>\n",
              "  <tbody>\n",
              "  </tbody>\n",
              "</table>\n",
              "</div>"
            ],
            "text/plain": [
              "Empty DataFrame\n",
              "Columns: [grid_pos, driver, team, driver_encoded, team_encoded, predicted_winner]\n",
              "Index: []"
            ]
          },
          "execution_count": 10,
          "metadata": {},
          "output_type": "execute_result"
        }
      ],
      "source": [
        "# prompt: # Assume `df_predict` contains latest driver grid data\n",
        "\n",
        "# Assuming df_predict has the same structure as X (grid_pos, team_encoded, driver_encoded)\n",
        "# before fitting the LabelEncoders.\n",
        "# You'll need to apply the *same* LabelEncoders fitted on the training data to df_predict.\n",
        "\n",
        "# Example df_predict structure (you would load this from your actual data source)\n",
        "# Make sure to create team_encoded and driver_encoded columns in df_predict\n",
        "# using the le_team and le_driver objects that were fitted on the training data (df).\n",
        "df_predict = pd.DataFrame({\n",
        "    'grid_pos': [1, 2, 3, 4, 5],\n",
        "    'driver': ['Max Verstappen', 'Lando Norris', 'Lewis Hamilton', 'Carlos Sainz', 'Sergio Perez'],\n",
        "    'team': ['Red Bull Racing', 'McLaren', 'Mercedes', 'Ferrari', 'Red Bull Racing']\n",
        "})\n",
        "\n",
        "# Apply the previously fitted LabelEncoders to df_predict\n",
        "# Ensure that all drivers and teams in df_predict were present in the training data\n",
        "# If not, you might need to handle unseen values (e.g., use a different strategy or add them to training data)\n",
        "df_predict['driver_encoded'] = le_driver.transform(df_predict['driver'])\n",
        "df_predict['team_encoded'] = le_team.transform(df_predict['team'])\n",
        "\n",
        "# Select the features for prediction\n",
        "X_predict = df_predict[['grid_pos', 'team_encoded', 'driver_encoded']]\n",
        "\n",
        "# Make predictions on the new data\n",
        "predictions = clf.predict(X_predict)\n",
        "\n",
        "# Add the predictions to the df_predict DataFrame\n",
        "df_predict['predicted_winner'] = predictions\n",
        "\n",
        "print(\"\\nPredictions on new data:\")\n",
        "print(df_predict)\n",
        "\n",
        "# You can further analyze the predictions, e.g., filter for predicted winners\n",
        "predicted_winners_df = df_predict[df_predict['predicted_winner'] == 1]\n",
        "print(\"\\nPredicted winners:\")\n",
        "predicted_winners_df\n"
      ]
    },
    {
      "cell_type": "code",
      "execution_count": 11,
      "metadata": {
        "id": "SnSShEHhUtkE"
      },
      "outputs": [
        {
          "name": "stdout",
          "output_type": "stream",
          "text": [
            "           driver             team  grid_pos  win_probability\n",
            "3    Carlos Sainz          Ferrari         4             0.96\n",
            "1    Lando Norris          McLaren         2             0.82\n",
            "4    Sergio Perez  Red Bull Racing         5             0.77\n",
            "0  Max Verstappen  Red Bull Racing         1             0.69\n",
            "2  Lewis Hamilton         Mercedes         3             0.51\n"
          ]
        }
      ],
      "source": [
        "# Assume df_predict contains latest driver grid data, and it's properly encoded\n",
        "X_predict = df_predict[['grid_pos', 'team_encoded', 'driver_encoded']]\n",
        "\n",
        "# Predict probability of being the winner (class 1)\n",
        "pred_probs = clf.predict_proba(X_predict)[:, 0]\n",
        "\n",
        "# Add to DataFrame\n",
        "df_predict['win_probability'] = pred_probs\n",
        "\n",
        "# Sort and display\n",
        "df_predict.sort_values(by='win_probability', ascending=False, inplace=True)\n",
        "print(df_predict[['driver', 'team', 'grid_pos', 'win_probability']])\n"
      ]
    },
    {
      "cell_type": "code",
      "execution_count": 12,
      "metadata": {
        "id": "-vM7Jrg9W7oD"
      },
      "outputs": [
        {
          "data": {
            "text/plain": [
              "['f1_winner_model.pkl']"
            ]
          },
          "execution_count": 12,
          "metadata": {},
          "output_type": "execute_result"
        }
      ],
      "source": [
        "import joblib\n",
        "joblib.dump(clf, 'f1_winner_model.pkl')\n"
      ]
    },
    {
      "cell_type": "code",
      "execution_count": 13,
      "metadata": {
        "id": "hOKlsfvOW-Tw"
      },
      "outputs": [],
      "source": [
        "clf = joblib.load('f1_winner_model.pkl')"
      ]
    },
    {
      "cell_type": "code",
      "execution_count": 14,
      "metadata": {
        "id": "yDgQJgzIXExo"
      },
      "outputs": [
        {
          "name": "stdout",
          "output_type": "stream",
          "text": [
            "🏁 Predicted Winner:\n",
            "Driver: Carlos Sainz\n",
            "Team: Ferrari\n",
            "Grid Position: 4\n",
            "Win Probability: 0.9600\n"
          ]
        }
      ],
      "source": [
        "predicted_winner = df_predict.loc[df_predict['win_probability'].idxmax()]\n",
        "print(\"🏁 Predicted Winner:\")\n",
        "print(f\"Driver: {predicted_winner['driver']}\")\n",
        "print(f\"Team: {predicted_winner['team']}\")\n",
        "print(f\"Grid Position: {predicted_winner['grid_pos']}\")\n",
        "print(f\"Win Probability: {predicted_winner['win_probability']:.4f}\")\n"
      ]
    },
    {
      "cell_type": "code",
      "execution_count": 15,
      "metadata": {
        "id": "N3gfU727XKWp"
      },
      "outputs": [
        {
          "name": "stdout",
          "output_type": "stream",
          "text": [
            "🥇 Top 3 Predicted Finishers:\n",
            "         driver             team  grid_pos  win_probability\n",
            "3  Carlos Sainz          Ferrari         4             0.96\n",
            "1  Lando Norris          McLaren         2             0.82\n",
            "4  Sergio Perez  Red Bull Racing         5             0.77\n"
          ]
        }
      ],
      "source": [
        "print(\"🥇 Top 3 Predicted Finishers:\")\n",
        "print(df_predict[['driver', 'team', 'grid_pos', 'win_probability']].head(3))\n"
      ]
    },
    {
      "cell_type": "code",
      "execution_count": 16,
      "metadata": {
        "id": "S-ixpmmDnWpH"
      },
      "outputs": [
        {
          "name": "stderr",
          "output_type": "stream",
          "text": [
            "core           INFO \tLoading data for British Grand Prix - Race [v3.6.0]\n",
            "req            INFO \tUsing cached data for session_info\n",
            "req            INFO \tUsing cached data for driver_info\n",
            "req            INFO \tUsing cached data for session_status_data\n",
            "req            INFO \tUsing cached data for lap_count\n",
            "req            INFO \tUsing cached data for track_status_data\n",
            "req            INFO \tUsing cached data for _extended_timing_data\n",
            "req            INFO \tUsing cached data for timing_app_data\n",
            "core           INFO \tProcessing timing data...\n",
            "req            INFO \tUsing cached data for car_data\n",
            "req            INFO \tUsing cached data for position_data\n",
            "req            INFO \tUsing cached data for weather_data\n",
            "req            INFO \tUsing cached data for race_control_messages\n",
            "core           INFO \tFinished loading data for 20 drivers: ['44', '1', '4', '81', '55', '27', '18', '14', '23', '22', '2', '20', '3', '16', '77', '31', '11', '24', '63', '10']\n"
          ]
        },
        {
          "name": "stdout",
          "output_type": "stream",
          "text": [
            "Accuracy: 0.83\n",
            "Classification Report:\n",
            "              precision    recall  f1-score   support\n",
            "\n",
            "           0       0.83      1.00      0.91         5\n",
            "           1       0.00      0.00      0.00         1\n",
            "\n",
            "    accuracy                           0.83         6\n",
            "   macro avg       0.42      0.50      0.45         6\n",
            "weighted avg       0.69      0.83      0.76         6\n",
            "\n",
            "Confusion Matrix:\n",
            "[[5 0]\n",
            " [1 0]]\n"
          ]
        },
        {
          "name": "stderr",
          "output_type": "stream",
          "text": [
            "C:\\Users\\CSMKSAWA\\AppData\\Local\\Packages\\PythonSoftwareFoundation.Python.3.11_qbz5n2kfra8p0\\LocalCache\\local-packages\\Python311\\site-packages\\sklearn\\metrics\\_classification.py:1706: UndefinedMetricWarning: Precision is ill-defined and being set to 0.0 in labels with no predicted samples. Use `zero_division` parameter to control this behavior.\n",
            "  _warn_prf(average, modifier, f\"{metric.capitalize()} is\", result.shape[0])\n",
            "C:\\Users\\CSMKSAWA\\AppData\\Local\\Packages\\PythonSoftwareFoundation.Python.3.11_qbz5n2kfra8p0\\LocalCache\\local-packages\\Python311\\site-packages\\sklearn\\metrics\\_classification.py:1706: UndefinedMetricWarning: Precision is ill-defined and being set to 0.0 in labels with no predicted samples. Use `zero_division` parameter to control this behavior.\n",
            "  _warn_prf(average, modifier, f\"{metric.capitalize()} is\", result.shape[0])\n",
            "C:\\Users\\CSMKSAWA\\AppData\\Local\\Packages\\PythonSoftwareFoundation.Python.3.11_qbz5n2kfra8p0\\LocalCache\\local-packages\\Python311\\site-packages\\sklearn\\metrics\\_classification.py:1706: UndefinedMetricWarning: Precision is ill-defined and being set to 0.0 in labels with no predicted samples. Use `zero_division` parameter to control this behavior.\n",
            "  _warn_prf(average, modifier, f\"{metric.capitalize()} is\", result.shape[0])\n"
          ]
        },
        {
          "data": {
            "image/png": "[encoded data removed]",
            "text/plain": [
              "<Figure size 800x400 with 1 Axes>"
            ]
          },
          "metadata": {},
          "output_type": "display_data"
        },
        {
          "name": "stdout",
          "output_type": "stream",
          "text": [
            "\n",
            "Predictions on new data:\n",
            "   grid_pos          driver             team  driver_encoded  team_encoded  \\\n",
            "0         1  Max Verstappen  Red Bull Racing              13             8   \n",
            "1         2    Lando Norris          McLaren              10             5   \n",
            "2         3  Lewis Hamilton         Mercedes              11             6   \n",
            "3         4    Carlos Sainz          Ferrari               1             2   \n",
            "4         5    Sergio Perez  Red Bull Racing              17             8   \n",
            "\n",
            "   predicted_winner  \n",
            "0                 0  \n",
            "1                 0  \n",
            "2                 0  \n",
            "3                 0  \n",
            "4                 0  \n",
            "\n",
            "Predicted winners:\n",
            "Empty DataFrame\n",
            "Columns: [grid_pos, driver, team, driver_encoded, team_encoded, predicted_winner]\n",
            "Index: []\n"
          ]
        },
        {
          "ename": "IndexError",
          "evalue": "index 1 is out of bounds for axis 1 with size 1",
          "output_type": "error",
          "traceback": [
            "\u001b[31m---------------------------------------------------------------------------\u001b[39m",
            "\u001b[31mIndexError\u001b[39m                                Traceback (most recent call last)",
            "\u001b[36mCell\u001b[39m\u001b[36m \u001b[39m\u001b[32mIn[16]\u001b[39m\u001b[32m, line 133\u001b[39m\n\u001b[32m    128\u001b[39m \u001b[38;5;28mprint\u001b[39m(predicted_winners_df) \u001b[38;5;66;03m# Use print to display the dataframe\u001b[39;00m\n\u001b[32m    130\u001b[39m \u001b[38;5;66;03m# Predict probability of being the winner (class 1)\u001b[39;00m\n\u001b[32m    131\u001b[39m \u001b[38;5;66;03m# Assuming the positive class (winner) is the second class in clf.classes_\u001b[39;00m\n\u001b[32m    132\u001b[39m \u001b[38;5;66;03m# Check clf.classes_ if you're unsure. Usually 0 is the first class, 1 is the second.\u001b[39;00m\n\u001b[32m--> \u001b[39m\u001b[32m133\u001b[39m pred_probs = \u001b[43mclf\u001b[49m\u001b[43m.\u001b[49m\u001b[43mpredict_proba\u001b[49m\u001b[43m(\u001b[49m\u001b[43mX_predict\u001b[49m\u001b[43m)\u001b[49m\u001b[43m[\u001b[49m\u001b[43m:\u001b[49m\u001b[43m,\u001b[49m\u001b[43m \u001b[49m\u001b[32;43m1\u001b[39;49m\u001b[43m]\u001b[49m \u001b[38;5;66;03m# Get probabilities for the positive class (winner)\u001b[39;00m\n\u001b[32m    135\u001b[39m \u001b[38;5;66;03m# Add to DataFrame\u001b[39;00m\n\u001b[32m    136\u001b[39m df_predict.loc[:, \u001b[33m'\u001b[39m\u001b[33mwin_probability\u001b[39m\u001b[33m'\u001b[39m] = pred_probs\n",
            "\u001b[31mIndexError\u001b[39m: index 1 is out of bounds for axis 1 with size 1"
          ]
        }
      ],
      "source": [
        "# prompt: Save this to my projects\n",
        "\n",
        "import os\n",
        "import fastf1\n",
        "from fastf1 import plotting\n",
        "import pandas as pd\n",
        "from sklearn.model_selection import train_test_split\n",
        "from sklearn.ensemble import RandomForestClassifier\n",
        "from sklearn.preprocessing import LabelEncoder\n",
        "from sklearn.metrics import classification_report, confusion_matrix\n",
        "import matplotlib.pyplot as plt\n",
        "import joblib\n",
        "\n",
        "# Install fastf1 if not already installed\n",
        "try:\n",
        "    import fastf1\n",
        "except ImportError:\n",
        "    !pip install fastf1\n",
        "    !pip install git+https://github.com/theOehrly/Fast-F1.git\n",
        "    import fastf1\n",
        "\n",
        "\n",
        "os.makedirs('./cache', exist_ok=True)  # Create the cache folder if it doesn't exist\n",
        "fastf1.Cache.enable_cache('./cache')  # Now FastF1 can use it\n",
        "\n",
        "# Load session for Qualifying (for example)\n",
        "# session = fastf1.get_session(2024, 'Silverstone', 'Q')  # British GP Qualifying\n",
        "# session.load()\n",
        "# print(session.results)\n",
        "\n",
        "# Load session for Race\n",
        "session = fastf1.get_session(2024, 'Silverstone', 'R')  # Race session\n",
        "session.load()\n",
        "\n",
        "# Get results\n",
        "results = session.results\n",
        "\n",
        "data = []\n",
        "for _, row in results.iterrows():\n",
        "    data.append({\n",
        "        'driver': row['FullName'],\n",
        "        'team': row['TeamName'],\n",
        "        'grid_pos': row['GridPosition'],\n",
        "        'finish_pos': row['Position'],\n",
        "        'points': row['Points'],\n",
        "        'status': row['Status'],\n",
        "        'winner': 1 if row['Position'] == 1 else 0\n",
        "    })\n",
        "\n",
        "df = pd.DataFrame(data)\n",
        "# print(df.head()) # Uncomment to print head\n",
        "\n",
        "df['winner'] = (df['finish_pos'] == 1).astype(int)\n",
        "# print(df.head()) # Uncomment to print head\n",
        "\n",
        "# Encode categorical columns\n",
        "le_driver = LabelEncoder()\n",
        "df['driver_encoded'] = le_driver.fit_transform(df['driver'])\n",
        "\n",
        "le_team = LabelEncoder()\n",
        "df['team_encoded'] = le_team.fit_transform(df['team'])\n",
        "\n",
        "X = df[['grid_pos', 'team_encoded', 'driver_encoded']]\n",
        "y = df['winner']\n",
        "\n",
        "X_train, X_test, y_train, y_test = train_test_split(X, y, test_size=0.3, random_state=42) # Added random_state for reproducibility\n",
        "\n",
        "clf = RandomForestClassifier(random_state=42) # Added random_state\n",
        "clf.fit(X_train, y_train)\n",
        "\n",
        "acc = clf.score(X_test, y_test)\n",
        "print(f\"Accuracy: {acc:.2f}\")\n",
        "\n",
        "y_pred = clf.predict(X_test)\n",
        "\n",
        "print(\"Classification Report:\")\n",
        "print(classification_report(y_test, y_pred))\n",
        "print(\"Confusion Matrix:\")\n",
        "print(confusion_matrix(y_test, y_pred))\n",
        "\n",
        "importances = clf.feature_importances_\n",
        "features = X.columns\n",
        "\n",
        "plt.figure(figsize=(8, 4)) # Added figure size\n",
        "plt.barh(features, importances)\n",
        "plt.xlabel(\"Feature Importance\")\n",
        "plt.title(\"What the model thinks is important\")\n",
        "plt.show()\n",
        "\n",
        "# --- Prediction on New Data (Example) ---\n",
        "# Assuming df_predict has the same structure as X (grid_pos, driver, team)\n",
        "# before fitting the LabelEncoders.\n",
        "# You'll need to apply the *same* LabelEncoders fitted on the training data to df_predict.\n",
        "\n",
        "# Example df_predict structure (you would load this from your actual data source)\n",
        "# Make sure to create team_encoded and driver_encoded columns in df_predict\n",
        "# using the le_team and le_driver objects that were fitted on the training data (df).\n",
        "# This example uses hypothetical data for prediction.\n",
        "df_predict = pd.DataFrame({\n",
        "    'grid_pos': [1, 2, 3, 4, 5],\n",
        "    'driver': ['Max Verstappen', 'Lando Norris', 'Lewis Hamilton', 'Carlos Sainz', 'Sergio Perez'],\n",
        "    'team': ['Red Bull Racing', 'McLaren', 'Mercedes', 'Ferrari', 'Red Bull Racing']\n",
        "})\n",
        "\n",
        "# Apply the previously fitted LabelEncoders to df_predict\n",
        "# Ensure that all drivers and teams in df_predict were present in the training data\n",
        "# If not, you might need to handle unseen values (e.g., use a different strategy or add them to training data)\n",
        "# Using .loc to avoid SettingWithCopyWarning\n",
        "df_predict.loc[:, 'driver_encoded'] = le_driver.transform(df_predict['driver'])\n",
        "df_predict.loc[:, 'team_encoded'] = le_team.transform(df_predict['team'])\n",
        "\n",
        "\n",
        "# Select the features for prediction\n",
        "X_predict = df_predict[['grid_pos', 'team_encoded', 'driver_encoded']]\n",
        "\n",
        "# Make predictions on the new data\n",
        "predictions = clf.predict(X_predict)\n",
        "\n",
        "# Add the predictions to the df_predict DataFrame\n",
        "df_predict.loc[:, 'predicted_winner'] = predictions\n",
        "\n",
        "print(\"\\nPredictions on new data:\")\n",
        "print(df_predict)\n",
        "\n",
        "# You can further analyze the predictions, e.g., filter for predicted winners\n",
        "predicted_winners_df = df_predict[df_predict['predicted_winner'] == 1].copy() # Use .copy() to avoid SettingWithCopyWarning\n",
        "print(\"\\nPredicted winners:\")\n",
        "print(predicted_winners_df) # Use print to display the dataframe\n",
        "\n",
        "# Predict probability of being the winner (class 1)\n",
        "# Assuming the positive class (winner) is the second class in clf.classes_\n",
        "# Check clf.classes_ if you're unsure. Usually 0 is the first class, 1 is the second.\n",
        "pred_probs = clf.predict_proba(X_predict)[:, 1] # Get probabilities for the positive class (winner)\n",
        "\n",
        "# Add to DataFrame\n",
        "df_predict.loc[:, 'win_probability'] = pred_probs\n",
        "\n",
        "# Sort and display\n",
        "df_predict.sort_values(by='win_probability', ascending=False, inplace=True)\n",
        "print(\"\\nRace Winner Probabilities:\")\n",
        "print(df_predict[['driver', 'team', 'grid_pos', 'win_probability']])\n",
        "\n",
        "# Save the model\n",
        "joblib.dump(clf, 'f1_winner_model.pkl')\n",
        "print(\"\\nModel saved as f1_winner_model.pkl\")\n",
        "\n",
        "# Load the model (optional, just for demonstration)\n",
        "# clf_loaded = joblib.load('f1_winner_model.pkl')\n",
        "# print(\"\\nModel loaded successfully.\")\n",
        "\n",
        "# Predict the most likely winner and top 3 based on probability\n",
        "if not df_predict.empty:\n",
        "    predicted_winner = df_predict.iloc[0] # Get the first row after sorting by probability\n",
        "    print(\"\\n🏁 Predicted Winner:\")\n",
        "    print(f\"Driver: {predicted_winner['driver']}\")\n",
        "    print(f\"Team: {predicted_winner['team']}\")\n",
        "    print(f\"Grid Position: {predicted_winner['grid_pos']}\")\n",
        "    print(f\"Win Probability: {predicted_winner['win_probability']:.4f}\")\n",
        "\n",
        "    print(\"\\n🥇 Top 3 Predicted Finishers (by Win Probability):\")\n",
        "    print(df_predict[['driver', 'team', 'grid_pos', 'win_probability']].head(3))\n",
        "else:\n",
        "    print(\"\\nNo predictions to display.\")\n"
      ]
    }
  ],
  "metadata": {
    "colab": {
      "private_outputs": true,
      "provenance": []
    },
    "kernelspec": {
      "display_name": "Python 3",
      "name": "python3"
    },
    "language_info": {
      "codemirror_mode": {
        "name": "ipython",
        "version": 3
      },
      "file_extension": ".py",
      "mimetype": "text/x-python",
      "name": "python",
      "nbconvert_exporter": "python",
      "pygments_lexer": "ipython3",
      "version": "3.11.9"
    }
  },
  "nbformat": 4,
  "nbformat_minor": 0
}
