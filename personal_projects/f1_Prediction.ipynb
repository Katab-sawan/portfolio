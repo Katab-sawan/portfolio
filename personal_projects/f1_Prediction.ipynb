{
  "nbformat": 4,
  "nbformat_minor": 0,
  "metadata": {
    "colab": {
      "private_outputs": true,
      "provenance": []
    },
    "kernelspec": {
      "name": "python3",
      "display_name": "Python 3"
    },
    "language_info": {
      "name": "python"
    }
  },
  "cells": [
    {
      "cell_type": "code",
      "execution_count": null,
      "metadata": {
        "id": "MGHZ3_9Gmzcr"
      },
      "outputs": [],
      "source": [
        "pip install fastf1"
      ]
    },
    {
      "cell_type": "code",
      "source": [
        "pip install git+https://github.com/theOehrly/Fast-F1.git\n"
      ],
      "metadata": {
        "id": "UJK9snQlnFeB"
      },
      "execution_count": null,
      "outputs": []
    },
    {
      "cell_type": "code",
      "source": [
        "import os\n",
        "import fastf1\n",
        "\n",
        "os.makedirs('./cache', exist_ok=True)  # ✅ Create the cache folder if it doesn't exist\n",
        "fastf1.Cache.enable_cache('./cache')   # ✅ Now FastF1 can use it"
      ],
      "metadata": {
        "id": "oUGkjBo5SopY"
      },
      "execution_count": null,
      "outputs": []
    },
    {
      "cell_type": "code",
      "source": [
        "import fastf1\n",
        "fastf1.Cache.enable_cache('./cache')  # Set a local directory for cache\n"
      ],
      "metadata": {
        "id": "t3Sc5CHSS0KG"
      },
      "execution_count": null,
      "outputs": []
    },
    {
      "cell_type": "code",
      "source": [
        "session = fastf1.get_session(2024, 'Silverstone', 'Q')  # British GP Qualifying\n",
        "session.load()\n",
        "print(session.results)"
      ],
      "metadata": {
        "id": "5I06_rGzS4F5"
      },
      "execution_count": null,
      "outputs": []
    },
    {
      "cell_type": "code",
      "source": [
        "from fastf1 import plotting\n",
        "import pandas as pd\n",
        "\n",
        "os.makedirs('./cache', exist_ok=True)\n",
        "fastf1.Cache.enable_cache('./cache')\n",
        "\n",
        "# Load session\n",
        "session = fastf1.get_session(2024, 'Silverstone', 'R')  # Race session\n",
        "session.load()\n",
        "\n",
        "# Get results\n",
        "results = session.results\n",
        "\n",
        "data = []\n",
        "for _, row in results.iterrows():\n",
        "    data.append({\n",
        "        'driver': row['FullName'],        # Use full driver name\n",
        "        'team': row['TeamName'],\n",
        "        'grid_pos': row['GridPosition'],\n",
        "        'finish_pos': row['Position'],\n",
        "        'points': row['Points'],\n",
        "        'status': row['Status'],\n",
        "        'winner': 1 if row['Position'] == 1 else 0\n",
        "    })\n",
        "\n",
        "df = pd.DataFrame(data)\n",
        "print(df.head())\n",
        "\n",
        "df['winner'] = (df['finish_pos'] == 1).astype(int)\n",
        "print(df.head())\n"
      ],
      "metadata": {
        "id": "_wkBgmWDTVfO"
      },
      "execution_count": null,
      "outputs": []
    },
    {
      "cell_type": "code",
      "source": [
        "from sklearn.model_selection import train_test_split\n",
        "from sklearn.ensemble import RandomForestClassifier\n",
        "from sklearn.preprocessing import LabelEncoder\n",
        "\n",
        "# Encode categorical columns\n",
        "le_driver = LabelEncoder()\n",
        "df['driver_encoded'] = le_driver.fit_transform(df['driver'])\n",
        "\n",
        "le_team = LabelEncoder()\n",
        "df['team_encoded'] = le_team.fit_transform(df['team'])\n",
        "\n",
        "X = df[['grid_pos', 'team_encoded', 'driver_encoded']]\n",
        "y = df['winner']\n",
        "\n",
        "X_train, X_test, y_train, y_test = train_test_split(X, y, test_size=0.3)\n",
        "\n",
        "clf = RandomForestClassifier()\n",
        "clf.fit(X_train, y_train)\n",
        "\n",
        "acc = clf.score(X_test, y_test)\n",
        "print(f\"Accuracy: {acc:.2f}\")\n"
      ],
      "metadata": {
        "id": "5vrbLYIbUNDO"
      },
      "execution_count": null,
      "outputs": []
    },
    {
      "cell_type": "code",
      "source": [
        "from sklearn.metrics import classification_report, confusion_matrix\n",
        "\n",
        "y_pred = clf.predict(X_test)\n",
        "\n",
        "print(classification_report(y_test, y_pred))\n",
        "print(confusion_matrix(y_test, y_pred))\n"
      ],
      "metadata": {
        "id": "7H245ep0UjZl"
      },
      "execution_count": null,
      "outputs": []
    },
    {
      "cell_type": "code",
      "source": [
        "import matplotlib.pyplot as plt\n",
        "\n",
        "importances = clf.feature_importances_\n",
        "features = X.columns\n",
        "\n",
        "plt.barh(features, importances)\n",
        "plt.xlabel(\"Feature Importance\")\n",
        "plt.title(\"What the model thinks is important\")\n",
        "plt.show()\n"
      ],
      "metadata": {
        "id": "mYh7GU7LUrvS"
      },
      "execution_count": null,
      "outputs": []
    },
    {
      "cell_type": "code",
      "source": [
        "# prompt: # Assume `df_predict` contains latest driver grid data\n",
        "\n",
        "# Assuming df_predict has the same structure as X (grid_pos, team_encoded, driver_encoded)\n",
        "# before fitting the LabelEncoders.\n",
        "# You'll need to apply the *same* LabelEncoders fitted on the training data to df_predict.\n",
        "\n",
        "# Example df_predict structure (you would load this from your actual data source)\n",
        "# Make sure to create team_encoded and driver_encoded columns in df_predict\n",
        "# using the le_team and le_driver objects that were fitted on the training data (df).\n",
        "df_predict = pd.DataFrame({\n",
        "    'grid_pos': [1, 2, 3, 4, 5],\n",
        "    'driver': ['Max Verstappen', 'Lando Norris', 'Lewis Hamilton', 'Carlos Sainz', 'Sergio Perez'],\n",
        "    'team': ['Red Bull Racing', 'McLaren', 'Mercedes', 'Ferrari', 'Red Bull Racing']\n",
        "})\n",
        "\n",
        "# Apply the previously fitted LabelEncoders to df_predict\n",
        "# Ensure that all drivers and teams in df_predict were present in the training data\n",
        "# If not, you might need to handle unseen values (e.g., use a different strategy or add them to training data)\n",
        "df_predict['driver_encoded'] = le_driver.transform(df_predict['driver'])\n",
        "df_predict['team_encoded'] = le_team.transform(df_predict['team'])\n",
        "\n",
        "# Select the features for prediction\n",
        "X_predict = df_predict[['grid_pos', 'team_encoded', 'driver_encoded']]\n",
        "\n",
        "# Make predictions on the new data\n",
        "predictions = clf.predict(X_predict)\n",
        "\n",
        "# Add the predictions to the df_predict DataFrame\n",
        "df_predict['predicted_winner'] = predictions\n",
        "\n",
        "print(\"\\nPredictions on new data:\")\n",
        "print(df_predict)\n",
        "\n",
        "# You can further analyze the predictions, e.g., filter for predicted winners\n",
        "predicted_winners_df = df_predict[df_predict['predicted_winner'] == 1]\n",
        "print(\"\\nPredicted winners:\")\n",
        "predicted_winners_df\n"
      ],
      "metadata": {
        "id": "7PaSCf7MU2d1"
      },
      "execution_count": null,
      "outputs": []
    },
    {
      "cell_type": "code",
      "source": [
        "# Assume df_predict contains latest driver grid data, and it's properly encoded\n",
        "X_predict = df_predict[['grid_pos', 'team_encoded', 'driver_encoded']]\n",
        "\n",
        "# Predict probability of being the winner (class 1)\n",
        "pred_probs = clf.predict_proba(X_predict)[:, 0]\n",
        "\n",
        "# Add to DataFrame\n",
        "df_predict['win_probability'] = pred_probs\n",
        "\n",
        "# Sort and display\n",
        "df_predict.sort_values(by='win_probability', ascending=False, inplace=True)\n",
        "print(df_predict[['driver', 'team', 'grid_pos', 'win_probability']])\n"
      ],
      "metadata": {
        "id": "SnSShEHhUtkE"
      },
      "execution_count": null,
      "outputs": []
    },
    {
      "cell_type": "code",
      "source": [
        "import joblib\n",
        "joblib.dump(clf, 'f1_winner_model.pkl')\n"
      ],
      "metadata": {
        "id": "-vM7Jrg9W7oD"
      },
      "execution_count": null,
      "outputs": []
    },
    {
      "cell_type": "code",
      "source": [
        "clf = joblib.load('f1_winner_model.pkl')"
      ],
      "metadata": {
        "id": "hOKlsfvOW-Tw"
      },
      "execution_count": null,
      "outputs": []
    },
    {
      "cell_type": "code",
      "source": [
        "predicted_winner = df_predict.loc[df_predict['win_probability'].idxmax()]\n",
        "print(\"🏁 Predicted Winner:\")\n",
        "print(f\"Driver: {predicted_winner['driver']}\")\n",
        "print(f\"Team: {predicted_winner['team']}\")\n",
        "print(f\"Grid Position: {predicted_winner['grid_pos']}\")\n",
        "print(f\"Win Probability: {predicted_winner['win_probability']:.4f}\")\n"
      ],
      "metadata": {
        "id": "yDgQJgzIXExo"
      },
      "execution_count": null,
      "outputs": []
    },
    {
      "cell_type": "code",
      "source": [
        "print(\"🥇 Top 3 Predicted Finishers:\")\n",
        "print(df_predict[['driver', 'team', 'grid_pos', 'win_probability']].head(3))\n"
      ],
      "metadata": {
        "id": "N3gfU727XKWp"
      },
      "execution_count": null,
      "outputs": []
    },
    {
      "cell_type": "code",
      "source": [
        "# prompt: Save this to my projects\n",
        "\n",
        "import os\n",
        "import fastf1\n",
        "from fastf1 import plotting\n",
        "import pandas as pd\n",
        "from sklearn.model_selection import train_test_split\n",
        "from sklearn.ensemble import RandomForestClassifier\n",
        "from sklearn.preprocessing import LabelEncoder\n",
        "from sklearn.metrics import classification_report, confusion_matrix\n",
        "import matplotlib.pyplot as plt\n",
        "import joblib\n",
        "\n",
        "# Install fastf1 if not already installed\n",
        "try:\n",
        "    import fastf1\n",
        "except ImportError:\n",
        "    !pip install fastf1\n",
        "    !pip install git+https://github.com/theOehrly/Fast-F1.git\n",
        "    import fastf1\n",
        "\n",
        "\n",
        "os.makedirs('./cache', exist_ok=True)  # Create the cache folder if it doesn't exist\n",
        "fastf1.Cache.enable_cache('./cache')  # Now FastF1 can use it\n",
        "\n",
        "# Load session for Qualifying (for example)\n",
        "# session = fastf1.get_session(2024, 'Silverstone', 'Q')  # British GP Qualifying\n",
        "# session.load()\n",
        "# print(session.results)\n",
        "\n",
        "# Load session for Race\n",
        "session = fastf1.get_session(2024, 'Silverstone', 'R')  # Race session\n",
        "session.load()\n",
        "\n",
        "# Get results\n",
        "results = session.results\n",
        "\n",
        "data = []\n",
        "for _, row in results.iterrows():\n",
        "    data.append({\n",
        "        'driver': row['FullName'],\n",
        "        'team': row['TeamName'],\n",
        "        'grid_pos': row['GridPosition'],\n",
        "        'finish_pos': row['Position'],\n",
        "        'points': row['Points'],\n",
        "        'status': row['Status'],\n",
        "        'winner': 1 if row['Position'] == 1 else 0\n",
        "    })\n",
        "\n",
        "df = pd.DataFrame(data)\n",
        "# print(df.head()) # Uncomment to print head\n",
        "\n",
        "df['winner'] = (df['finish_pos'] == 1).astype(int)\n",
        "# print(df.head()) # Uncomment to print head\n",
        "\n",
        "# Encode categorical columns\n",
        "le_driver = LabelEncoder()\n",
        "df['driver_encoded'] = le_driver.fit_transform(df['driver'])\n",
        "\n",
        "le_team = LabelEncoder()\n",
        "df['team_encoded'] = le_team.fit_transform(df['team'])\n",
        "\n",
        "X = df[['grid_pos', 'team_encoded', 'driver_encoded']]\n",
        "y = df['winner']\n",
        "\n",
        "X_train, X_test, y_train, y_test = train_test_split(X, y, test_size=0.3, random_state=42) # Added random_state for reproducibility\n",
        "\n",
        "clf = RandomForestClassifier(random_state=42) # Added random_state\n",
        "clf.fit(X_train, y_train)\n",
        "\n",
        "acc = clf.score(X_test, y_test)\n",
        "print(f\"Accuracy: {acc:.2f}\")\n",
        "\n",
        "y_pred = clf.predict(X_test)\n",
        "\n",
        "print(\"Classification Report:\")\n",
        "print(classification_report(y_test, y_pred))\n",
        "print(\"Confusion Matrix:\")\n",
        "print(confusion_matrix(y_test, y_pred))\n",
        "\n",
        "importances = clf.feature_importances_\n",
        "features = X.columns\n",
        "\n",
        "plt.figure(figsize=(8, 4)) # Added figure size\n",
        "plt.barh(features, importances)\n",
        "plt.xlabel(\"Feature Importance\")\n",
        "plt.title(\"What the model thinks is important\")\n",
        "plt.show()\n",
        "\n",
        "# --- Prediction on New Data (Example) ---\n",
        "# Assuming df_predict has the same structure as X (grid_pos, driver, team)\n",
        "# before fitting the LabelEncoders.\n",
        "# You'll need to apply the *same* LabelEncoders fitted on the training data to df_predict.\n",
        "\n",
        "# Example df_predict structure (you would load this from your actual data source)\n",
        "# Make sure to create team_encoded and driver_encoded columns in df_predict\n",
        "# using the le_team and le_driver objects that were fitted on the training data (df).\n",
        "# This example uses hypothetical data for prediction.\n",
        "df_predict = pd.DataFrame({\n",
        "    'grid_pos': [1, 2, 3, 4, 5],\n",
        "    'driver': ['Max Verstappen', 'Lando Norris', 'Lewis Hamilton', 'Carlos Sainz', 'Sergio Perez'],\n",
        "    'team': ['Red Bull Racing', 'McLaren', 'Mercedes', 'Ferrari', 'Red Bull Racing']\n",
        "})\n",
        "\n",
        "# Apply the previously fitted LabelEncoders to df_predict\n",
        "# Ensure that all drivers and teams in df_predict were present in the training data\n",
        "# If not, you might need to handle unseen values (e.g., use a different strategy or add them to training data)\n",
        "# Using .loc to avoid SettingWithCopyWarning\n",
        "df_predict.loc[:, 'driver_encoded'] = le_driver.transform(df_predict['driver'])\n",
        "df_predict.loc[:, 'team_encoded'] = le_team.transform(df_predict['team'])\n",
        "\n",
        "\n",
        "# Select the features for prediction\n",
        "X_predict = df_predict[['grid_pos', 'team_encoded', 'driver_encoded']]\n",
        "\n",
        "# Make predictions on the new data\n",
        "predictions = clf.predict(X_predict)\n",
        "\n",
        "# Add the predictions to the df_predict DataFrame\n",
        "df_predict.loc[:, 'predicted_winner'] = predictions\n",
        "\n",
        "print(\"\\nPredictions on new data:\")\n",
        "print(df_predict)\n",
        "\n",
        "# You can further analyze the predictions, e.g., filter for predicted winners\n",
        "predicted_winners_df = df_predict[df_predict['predicted_winner'] == 1].copy() # Use .copy() to avoid SettingWithCopyWarning\n",
        "print(\"\\nPredicted winners:\")\n",
        "print(predicted_winners_df) # Use print to display the dataframe\n",
        "\n",
        "# Predict probability of being the winner (class 1)\n",
        "# Assuming the positive class (winner) is the second class in clf.classes_\n",
        "# Check clf.classes_ if you're unsure. Usually 0 is the first class, 1 is the second.\n",
        "pred_probs = clf.predict_proba(X_predict)[:, 1] # Get probabilities for the positive class (winner)\n",
        "\n",
        "# Add to DataFrame\n",
        "df_predict.loc[:, 'win_probability'] = pred_probs\n",
        "\n",
        "# Sort and display\n",
        "df_predict.sort_values(by='win_probability', ascending=False, inplace=True)\n",
        "print(\"\\nRace Winner Probabilities:\")\n",
        "print(df_predict[['driver', 'team', 'grid_pos', 'win_probability']])\n",
        "\n",
        "# Save the model\n",
        "joblib.dump(clf, 'f1_winner_model.pkl')\n",
        "print(\"\\nModel saved as f1_winner_model.pkl\")\n",
        "\n",
        "# Load the model (optional, just for demonstration)\n",
        "# clf_loaded = joblib.load('f1_winner_model.pkl')\n",
        "# print(\"\\nModel loaded successfully.\")\n",
        "\n",
        "# Predict the most likely winner and top 3 based on probability\n",
        "if not df_predict.empty:\n",
        "    predicted_winner = df_predict.iloc[0] # Get the first row after sorting by probability\n",
        "    print(\"\\n🏁 Predicted Winner:\")\n",
        "    print(f\"Driver: {predicted_winner['driver']}\")\n",
        "    print(f\"Team: {predicted_winner['team']}\")\n",
        "    print(f\"Grid Position: {predicted_winner['grid_pos']}\")\n",
        "    print(f\"Win Probability: {predicted_winner['win_probability']:.4f}\")\n",
        "\n",
        "    print(\"\\n🥇 Top 3 Predicted Finishers (by Win Probability):\")\n",
        "    print(df_predict[['driver', 'team', 'grid_pos', 'win_probability']].head(3))\n",
        "else:\n",
        "    print(\"\\nNo predictions to display.\")\n"
      ],
      "metadata": {
        "id": "S-ixpmmDnWpH"
      },
      "execution_count": null,
      "outputs": []
    }
  ]
}