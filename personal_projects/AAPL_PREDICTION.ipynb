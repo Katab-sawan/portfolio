{
  "nbformat": 4,
  "nbformat_minor": 0,
  "metadata": {
    "colab": {
      "private_outputs": true,
      "provenance": []
    },
    "kernelspec": {
      "name": "python3",
      "display_name": "Python 3"
    },
    "language_info": {
      "name": "python"
    }
  },
  "cells": [
    {
      "cell_type": "code",
      "execution_count": null,
      "metadata": {
        "id": "p-tk1byLivbr"
      },
      "outputs": [],
      "source": [
        "import yfinance as yf\n",
        "import pandas as pd\n",
        "import matplotlib.pyplot as plt\n",
        "from sklearn.model_selection import train_test_split\n",
        "from sklearn.preprocessing import MinMaxScaler\n",
        "from tensorflow import keras\n",
        "#from tensorflow.keras.callbacks import EarlyStopping\n"
      ]
    },
    {
      "cell_type": "code",
      "source": [
        "df = pd.read_csv('/content/AAPL_short_volume.csv')\n"
      ],
      "metadata": {
        "id": "AZaiV4xpnFPD"
      },
      "execution_count": null,
      "outputs": []
    },
    {
      "cell_type": "code",
      "source": [
        "df.shape"
      ],
      "metadata": {
        "id": "PyNEWgiOnMLf"
      },
      "execution_count": null,
      "outputs": []
    },
    {
      "cell_type": "code",
      "source": [
        "df.head()"
      ],
      "metadata": {
        "id": "7BS_Qgz3nRSR"
      },
      "execution_count": null,
      "outputs": []
    },
    {
      "cell_type": "code",
      "source": [
        "df.tail()"
      ],
      "metadata": {
        "id": "mvpzu3m0nU-_"
      },
      "execution_count": null,
      "outputs": []
    },
    {
      "cell_type": "code",
      "source": [
        "df.isna().sum()"
      ],
      "metadata": {
        "id": "pLFUjKtenYkE"
      },
      "execution_count": null,
      "outputs": []
    },
    {
      "cell_type": "code",
      "source": [
        "df.info()"
      ],
      "metadata": {
        "id": "EnZcFeaknvaM"
      },
      "execution_count": null,
      "outputs": []
    },
    {
      "cell_type": "code",
      "source": [
        "df['Date'] = pd.to_datetime(df['Date'])"
      ],
      "metadata": {
        "id": "kVfVfFLcncKA"
      },
      "execution_count": null,
      "outputs": []
    },
    {
      "cell_type": "code",
      "source": [
        "df.info()"
      ],
      "metadata": {
        "id": "5Vf1d7DCoMS0"
      },
      "execution_count": null,
      "outputs": []
    },
    {
      "cell_type": "code",
      "source": [
        "df.set_index('Date', inplace=True)"
      ],
      "metadata": {
        "id": "CBAfYqB0oVlC"
      },
      "execution_count": null,
      "outputs": []
    },
    {
      "cell_type": "code",
      "source": [
        "df.info()"
      ],
      "metadata": {
        "id": "TQUPlVMzooEf"
      },
      "execution_count": null,
      "outputs": []
    },
    {
      "cell_type": "code",
      "source": [
        "df.head()"
      ],
      "metadata": {
        "id": "_qAD03pPovZF"
      },
      "execution_count": null,
      "outputs": []
    },
    {
      "cell_type": "code",
      "source": [
        "df.tail()"
      ],
      "metadata": {
        "id": "u2uQVenGo1SG"
      },
      "execution_count": null,
      "outputs": []
    },
    {
      "cell_type": "code",
      "source": [
        "df.sort_index(ascending=True, inplace=True)\n",
        "df"
      ],
      "metadata": {
        "id": "XD68UslRo6uY"
      },
      "execution_count": null,
      "outputs": []
    },
    {
      "cell_type": "code",
      "source": [
        "!pip"
      ],
      "metadata": {
        "id": "M4qGUl2Ko_rH"
      },
      "execution_count": null,
      "outputs": []
    },
    {
      "cell_type": "code",
      "source": [
        "from sklearn.preprocessing import MinMaxScaler"
      ],
      "metadata": {
        "id": "_xyTuWO4pU7B"
      },
      "execution_count": null,
      "outputs": []
    },
    {
      "cell_type": "code",
      "source": [
        "scaler = MinMaxScaler()\n",
        "scaler_values = scaler.fit_transform(df[df.columns])"
      ],
      "metadata": {
        "id": "MUaVAJulpXQ1"
      },
      "execution_count": null,
      "outputs": []
    },
    {
      "cell_type": "code",
      "source": [
        "scaler_values"
      ],
      "metadata": {
        "id": "6Z331qP0pjsk"
      },
      "execution_count": null,
      "outputs": []
    },
    {
      "cell_type": "code",
      "source": [
        "df_scaled = pd.DataFrame(scaler_values, columns=df.columns, index=df.index)\n",
        "df_scaled"
      ],
      "metadata": {
        "id": "Ud-QFq-QpmFi"
      },
      "execution_count": null,
      "outputs": []
    },
    {
      "cell_type": "code",
      "source": [
        "plt.rcParams['figure.figsize'] = [15, 7]\n",
        "figure, axes = plt.subplots(6)\n",
        "\n",
        "for ax, col in zip(axes, df_scaled.columns):\n",
        "  ax.plot(df_scaled[col])\n",
        "  ax.set_title(col)\n",
        "  ax.axes.xaxis.set_visible(False)\n",
        "\n"
      ],
      "metadata": {
        "id": "amV0FiXup_6Y"
      },
      "execution_count": null,
      "outputs": []
    },
    {
      "cell_type": "code",
      "source": [
        "import numpy as np\n",
        "def create_sequence(data, window_size):\n",
        "  X = []\n",
        "  Y = []\n",
        "\n",
        "  for i in range(window_size, len(data)):\n",
        "    X.append(data[i-window_size:i, :])\n",
        "    Y.append(data[i, :])\n",
        "\n",
        "  return np.array(X), np.array(Y)\n"
      ],
      "metadata": {
        "id": "t25J-HvQrAQ_"
      },
      "execution_count": null,
      "outputs": []
    },
    {
      "cell_type": "code",
      "source": [
        "window_size = 60\n",
        "X, y = create_sequence(df_scaled.values, window_size)"
      ],
      "metadata": {
        "id": "11_6rxOXsYc9"
      },
      "execution_count": null,
      "outputs": []
    },
    {
      "cell_type": "code",
      "source": [
        "X.shape, y.shape"
      ],
      "metadata": {
        "id": "zSXBGu3mtGOB"
      },
      "execution_count": null,
      "outputs": []
    },
    {
      "cell_type": "code",
      "source": [
        "X"
      ],
      "metadata": {
        "id": "BIK1AXxltLel"
      },
      "execution_count": null,
      "outputs": []
    },
    {
      "cell_type": "code",
      "source": [
        "y"
      ],
      "metadata": {
        "id": "CAbA17GztNaS"
      },
      "execution_count": null,
      "outputs": []
    },
    {
      "cell_type": "code",
      "source": [
        "\n",
        "X_train, X_test, y_train, y_test = train_test_split(X, y, test_size = 0.2, random_state = 42)\n",
        "X_train.shape, X_test.shape"
      ],
      "metadata": {
        "id": "p2I6wkoGtRoQ"
      },
      "execution_count": null,
      "outputs": []
    },
    {
      "cell_type": "code",
      "source": [
        "model = keras.Sequential([\n",
        "    keras.layers.LSTM(units = 50, return_sequences= True, input_shape = (X_train.shape[1], X_train.shape[2])),\n",
        "    keras.layers.Dropout(0.3),\n",
        "\n",
        "    keras.layers.LSTM(units = 50, return_sequences= True),\n",
        "    keras.layers.Dropout(0.3),\n",
        "\n",
        "    keras.layers.LSTM(units = 50, return_sequences= False),\n",
        "    keras.layers.Dropout(0.3),\n",
        "\n",
        "    keras.layers.Dense(y_train.shape[1])\n",
        "])"
      ],
      "metadata": {
        "id": "shKlnsAzuM6r"
      },
      "execution_count": null,
      "outputs": []
    },
    {
      "cell_type": "code",
      "source": [
        "model.compile(optimizer = 'adam',\n",
        "              loss = 'mean_squared_error',\n",
        "              metrics = ['RootMeanSquaredError'])\n",
        "\n"
      ],
      "metadata": {
        "id": "stOZw8QUv45c"
      },
      "execution_count": null,
      "outputs": []
    },
    {
      "cell_type": "code",
      "source": [
        "es = EarlyStopping(monitor = 'val_loss', patience = 10, restore_best_weights=True)\n"
      ],
      "metadata": {
        "id": "aSX7OtU8wRXV"
      },
      "execution_count": null,
      "outputs": []
    },
    {
      "cell_type": "code",
      "source": [
        "#history = model.fit(X_train, y_train, validation_split = 0.2, epochs = 100, batch_size=32, callbacks = [es])\n",
        "\n",
        "lstm_model = model.fit(\n",
        "    X_train,\n",
        "    y_train,\n",
        "    validation_split=0.2,\n",
        "    epochs=10,\n",
        "    batch_size=32,\n",
        "    callbacks=[es],\n",
        "    verbose=1\n",
        ")\n"
      ],
      "metadata": {
        "id": "nNbPY8Z4wsUG"
      },
      "execution_count": null,
      "outputs": []
    },
    {
      "cell_type": "code",
      "source": [
        "lstm_model.history"
      ],
      "metadata": {
        "id": "8d0CeCCIfJU_"
      },
      "execution_count": null,
      "outputs": []
    },
    {
      "cell_type": "code",
      "source": [
        "predictions = model.predict(X_test)"
      ],
      "metadata": {
        "id": "yfqW-KRSxkg_"
      },
      "execution_count": null,
      "outputs": []
    },
    {
      "cell_type": "code",
      "source": [
        "# FORECASTING THE DATA + INVERESE SCALING IN ORDER TO MATCH\n",
        "predictions = scaler.inverse_transform(predictions)\n",
        "y_test_rescaled = scaler.inverse_transform(y_test)\n",
        "\n",
        "\n"
      ],
      "metadata": {
        "id": "EjoNKmiddd8z"
      },
      "execution_count": null,
      "outputs": []
    },
    {
      "cell_type": "code",
      "source": [
        "predictions[:10]"
      ],
      "metadata": {
        "id": "MiWyk4RwfxOY"
      },
      "execution_count": null,
      "outputs": []
    },
    {
      "cell_type": "code",
      "source": [
        "plt.figure(figsize=(16, 8))\n",
        "\n",
        "for i, col in enumerate(df_scaled.columns):\n",
        "    plt.subplot(2, 3, i + 1)\n",
        "    plt.plot(y_test_rescaled[:, i], color='blue', label=f'Actual {col}')\n",
        "    plt.plot(predictions[:, i], color='red', label=f'Predicted {col}')\n",
        "    plt.title(f'{col} Prediction')\n",
        "    plt.xlabel('Time')\n",
        "    plt.ylabel(f'{col} Price')\n",
        "    plt.legend()\n",
        "\n",
        "\n"
      ],
      "metadata": {
        "id": "uXexW4dVf7tN"
      },
      "execution_count": null,
      "outputs": []
    },
    {
      "cell_type": "code",
      "source": [],
      "metadata": {
        "id": "z8C4KQ4ygLFu"
      },
      "execution_count": null,
      "outputs": []
    }
  ]
}